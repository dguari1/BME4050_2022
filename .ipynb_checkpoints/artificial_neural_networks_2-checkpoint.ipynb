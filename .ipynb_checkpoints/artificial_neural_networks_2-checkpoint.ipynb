{
 "cells": [
  {
   "cell_type": "markdown",
   "id": "0c722839",
   "metadata": {},
   "source": [
    "Training ANN is often performed using mini-batch SGD. PyTorch offers ready to use functions to split your data into mini-batches for training. \n",
    "\n",
    "Here is a silly example"
   ]
  },
  {
   "cell_type": "code",
   "execution_count": 14,
   "id": "3520c352",
   "metadata": {},
   "outputs": [
    {
     "data": {
      "text/plain": [
       "Text(0, 0.5, 'y')"
      ]
     },
     "execution_count": 14,
     "metadata": {},
     "output_type": "execute_result"
    },
    {
     "data": {
      "image/png": "[encoded data removed]",
      "text/plain": [
       "<Figure size 432x288 with 1 Axes>"
      ]
     },
     "metadata": {
      "needs_background": "light"
     },
     "output_type": "display_data"
    }
   ],
   "source": [
    "import numpy as np\n",
    "import matplotlib.pyplot as plt\n",
    "import torch\n",
    "\n",
    "X_train = np.arange(10,dtype = float).reshape((10))\n",
    "y_train = np.array([1.0, 1.3, 3.1, 2.0, 5.0, 6.3, 6.6,7.4, 8.0,9.0], dtype='float32')\n",
    "plt.plot(X_train, y_train, 'o', markersize=10)\n",
    "plt.xlabel('x')\n",
    "plt.ylabel('y')"
   ]
  },
  {
   "cell_type": "code",
   "execution_count": 64,
   "id": "b11b6520",
   "metadata": {},
   "outputs": [],
   "source": [
    "X_train = np.arange(10,dtype = 'float32').reshape((10))\n",
    "y_train = np.array([1.0, 1.3, 3.1, 2.0, 5.0, 6.3, 6.6,7.4, 8.0,9.0], dtype='float32')\n",
    "\n",
    "\n",
    "#normalize the data \n",
    "X_train_norm = (X_train - np.mean(X_train)) / np.std(X_train)\n",
    "\n",
    "#conver numpy arrays to PyTorch tensors \n",
    "X_train_norm = torch.from_numpy(X_train_norm)\n",
    "y_train = torch.from_numpy(y_train)\n",
    "\n",
    "#create a TensorDataset \n",
    "train_dataset = torch.utils.data.TensorDataset(X_train_norm, y_train)\n",
    "\n",
    "batch_size =  1\n",
    "#pass the DataSet to a DataLoader with the desired number of elements per batch \n",
    "train_dataloader = torch.utils.data.DataLoader(train_dataset, batch_size, shuffle= True)"
   ]
  },
  {
   "cell_type": "code",
   "execution_count": 65,
   "id": "dcd45c36",
   "metadata": {},
   "outputs": [
    {
     "name": "stdout",
     "output_type": "stream",
     "text": [
      "Epoch 0 Loss 15.1118, bias -0.5804, coeff 0.2221\n",
      "Epoch 10 Loss 34.0537, bias 0.4274, coeff 0.6738\n",
      "Epoch 20 Loss 27.6475, bias 1.2523, coeff 1.0433\n",
      "Epoch 30 Loss 18.6323, bias 1.9277, coeff 1.3453\n",
      "Epoch 40 Loss 10.8669, bias 2.4801, coeff 1.5928\n",
      "Epoch 50 Loss 8.4999, bias 2.9323, coeff 1.7952\n",
      "Epoch 60 Loss 0.0778, bias 3.3023, coeff 1.9609\n",
      "Epoch 70 Loss 3.9090, bias 3.6051, coeff 2.0965\n",
      "Epoch 80 Loss 2.1453, bias 3.8529, coeff 2.2073\n",
      "Epoch 90 Loss 1.8144, bias 4.0558, coeff 2.2981\n",
      "Epoch 100 Loss 0.0010, bias 4.2220, coeff 2.3723\n",
      "Epoch 110 Loss 1.1878, bias 4.3578, coeff 2.4331\n",
      "Epoch 120 Loss 0.6999, bias 4.4689, coeff 2.4828\n",
      "Epoch 130 Loss 0.5243, bias 4.5599, coeff 2.5236\n",
      "Epoch 140 Loss 0.0483, bias 4.6344, coeff 2.5569\n",
      "Epoch 150 Loss 0.2090, bias 4.6953, coeff 2.5841\n",
      "Epoch 160 Loss 0.1159, bias 4.7453, coeff 2.6064\n",
      "Epoch 170 Loss 0.0106, bias 4.7861, coeff 2.6246\n",
      "Epoch 180 Loss 0.3362, bias 4.8196, coeff 2.6395\n",
      "Epoch 190 Loss 0.3795, bias 4.8469, coeff 2.6517\n",
      "Epoch 200 Loss 0.0128, bias 4.8691, coeff 2.6618\n",
      "Epoch 210 Loss 0.1127, bias 4.8875, coeff 2.6699\n",
      "Epoch 220 Loss 0.3188, bias 4.9025, coeff 2.6766\n",
      "Epoch 230 Loss 0.0229, bias 4.9148, coeff 2.6821\n",
      "Epoch 240 Loss 0.0744, bias 4.9249, coeff 2.6865\n",
      "Epoch 250 Loss 0.0804, bias 4.9330, coeff 2.6902\n",
      "Epoch 260 Loss 0.1294, bias 4.9397, coeff 2.6932\n",
      "Epoch 270 Loss 0.0534, bias 4.9453, coeff 2.6956\n",
      "Epoch 280 Loss 0.2713, bias 4.9498, coeff 2.6977\n",
      "Epoch 290 Loss 0.0595, bias 4.9535, coeff 2.6993\n"
     ]
    }
   ],
   "source": [
    "\n",
    "\n",
    "loss_fn = torch.nn.MSELoss(reduction='mean')\n",
    "input_size = 1\n",
    "output_size = 1\n",
    "model = torch.nn.Linear(input_size, output_size)\n",
    "optimizer = torch.optim.SGD(model.parameters(), lr=learning_rate)\n",
    "\n",
    "learning_rate = 0.001\n",
    "num_epochs = 300\n",
    "log_epochs = 10\n",
    "for epoch in range(num_epochs):\n",
    "    for x_batch, y_batch in train_dataloader:\n",
    "        \n",
    "        #1. Generate predictions\n",
    "        pred = model(x_batch)\n",
    "        # 2. Calculate loss\n",
    "        loss = loss_fn(pred, y_batch)\n",
    "        # 3. Compute gradients\n",
    "        loss.backward()\n",
    "        # 4. Update parameters using gradients\n",
    "        optimizer.step()\n",
    "        # 5. Reset the gradients to zero\n",
    "        optimizer.zero_grad()\n",
    "        \n",
    "    if epoch % log_epochs==0:\n",
    "        print(f'Epoch {epoch} Loss {loss.item():.4f}, bias {model.bias.detach().item():.4f}, coeff {model.weight.detach().item():.4f}')\n",
    "        #print(f'Epoch {epoch} Loss {loss.item():.4f}')"
   ]
  },
  {
   "cell_type": "code",
   "execution_count": 59,
   "id": "80fab043",
   "metadata": {},
   "outputs": [
    {
     "data": {
      "text/plain": [
       "Text(0, 0.5, 'y')"
      ]
     },
     "execution_count": 59,
     "metadata": {},
     "output_type": "execute_result"
    },
    {
     "data": {
      "image/png": "[encoded data removed]",
      "text/plain": [
       "<Figure size 432x288 with 1 Axes>"
      ]
     },
     "metadata": {
      "needs_background": "light"
     },
     "output_type": "display_data"
    }
   ],
   "source": [
    "X_train = np.arange(10,dtype = float).reshape((10))\n",
    "y_train = np.array([1.0, 1.3, 3.1, 2.0, 5.0, 6.3, 6.6,7.4, 8.0,9.0], dtype='float32')\n",
    "plt.plot(X_train_norm, y_train, 'o', markersize=10)\n",
    "plt.plot(X_train_norm, X_train_norm*model.weight.detach().item() + model.bias.detach().item())\n",
    "plt.xlabel('x')\n",
    "plt.ylabel('y')"
   ]
  },
  {
   "cell_type": "markdown",
   "id": "7c69d53c",
   "metadata": {},
   "source": [
    "## Example 2"
   ]
  },
  {
   "cell_type": "code",
   "execution_count": 75,
   "id": "9598ed02",
   "metadata": {},
   "outputs": [],
   "source": [
    "from sklearn.datasets import load_iris\n",
    "from sklearn.model_selection import train_test_split\n",
    "iris = load_iris()\n",
    "\n",
    "X = iris['data']\n",
    "y = iris['target']\n",
    "X_train, X_test, y_train, y_test = train_test_split(X, y, test_size=1./3, random_state=1)\n",
    "\n",
    "X_train_norm = (X_train - np.mean(X_train)) / np.std(X_train)\n",
    "X_train_norm = torch.from_numpy(X_train_norm).float()\n",
    "y_train = torch.from_numpy(y_train).long()\n",
    "train_ds = torch.utils.data.TensorDataset(X_train_norm, y_train)\n",
    "torch.manual_seed(1)\n",
    "batch_size = 2\n",
    "train_dl = torch.utils.data.DataLoader(train_ds, batch_size, shuffle=True)"
   ]
  },
  {
   "cell_type": "code",
   "execution_count": 79,
   "id": "da4326aa",
   "metadata": {},
   "outputs": [],
   "source": [
    "import torch.nn as nn \n",
    "\n",
    "class Model(torch.nn.Module):\n",
    "    def __init__(self, input_size, hidden_size, output_size):\n",
    "        super().__init__()\n",
    "        \n",
    "        self.layer1 = nn.Linear(input_size, hidden_size)\n",
    "        self.layer2 = nn.Linear(hidden_size, output_size)\n",
    "#         self.nonlin = nn.Sigmoid()\n",
    "        self.nonlin = nn.ReLU()\n",
    " \n",
    "    def forward(self, x):\n",
    "        x = self.layer1(x)\n",
    "        x = self.nonlin(x)\n",
    "        x = self.layer2(x)\n",
    "        return x"
   ]
  },
  {
   "cell_type": "code",
   "execution_count": 80,
   "id": "0cb1c529",
   "metadata": {},
   "outputs": [],
   "source": [
    "input_size = X_train_norm.shape[1]\n",
    "hidden_size = 16\n",
    "output_size = 3\n",
    " \n",
    "model = Model(input_size, hidden_size, output_size)\n",
    "\n",
    "learning_rate = 0.001\n",
    "\n",
    "loss_fn = nn.CrossEntropyLoss()\n",
    " \n",
    "optimizer = torch.optim.Adam(model.parameters(), lr=learning_rate)\n",
    "\n",
    "num_epochs = 100\n",
    "loss_hist = [0] * num_epochs\n",
    "accuracy_hist = [0] * num_epochs\n",
    "\n",
    "for epoch in range(num_epochs):\n",
    "\n",
    "    for x_batch, y_batch in train_dl:\n",
    "        pred = model(x_batch)\n",
    "        loss = loss_fn(pred, y_batch)\n",
    "        loss.backward()\n",
    "        optimizer.step()\n",
    "        optimizer.zero_grad()\n",
    "    \n",
    "        loss_hist[epoch] += loss.item()*y_batch.size(0)\n",
    "        is_correct = (torch.argmax(pred, dim=1) == y_batch).float()\n",
    "        accuracy_hist[epoch] += is_correct.sum()\n",
    "        \n",
    "    loss_hist[epoch] /= len(train_dl.dataset)\n",
    "    accuracy_hist[epoch] /= len(train_dl.dataset)"
   ]
  },
  {
   "cell_type": "code",
   "execution_count": 81,
   "id": "12fbfc71",
   "metadata": {},
   "outputs": [
    {
     "data": {
      "image/png": "[encoded data removed]",
      "text/plain": [
       "<Figure size 864x360 with 2 Axes>"
      ]
     },
     "metadata": {
      "needs_background": "light"
     },
     "output_type": "display_data"
    }
   ],
   "source": [
    "fig = plt.figure(figsize=(12, 5))\n",
    "ax = fig.add_subplot(1, 2, 1)\n",
    "ax.plot(loss_hist, lw=3)\n",
    "ax.set_title('Training loss', size=15)\n",
    "ax.set_xlabel('Epoch', size=15)\n",
    "ax.tick_params(axis='both', which='major', labelsize=15)\n",
    "\n",
    "ax = fig.add_subplot(1, 2, 2)\n",
    "ax.plot(accuracy_hist, lw=3)\n",
    "ax.set_title('Training accuracy', size=15)\n",
    "ax.set_xlabel('Epoch', size=15)\n",
    "ax.tick_params(axis='both', which='major', labelsize=15)\n",
    "plt.tight_layout()\n",
    " \n",
    "plt.show()"
   ]
  },
  {
   "cell_type": "code",
   "execution_count": null,
   "id": "4de10b11",
   "metadata": {},
   "outputs": [],
   "source": [
    "#Evaluating model in test data\n"
   ]
  }
 ],
 "metadata": {
  "kernelspec": {
   "display_name": "Python 3",
   "language": "python",
   "name": "python3"
  },
  "language_info": {
   "codemirror_mode": {
    "name": "ipython",
    "version": 3
   },
   "file_extension": ".py",
   "mimetype": "text/x-python",
   "name": "python",
   "nbconvert_exporter": "python",
   "pygments_lexer": "ipython3",
   "version": "3.8.8"
  }
 },
 "nbformat": 4,
 "nbformat_minor": 5
}
