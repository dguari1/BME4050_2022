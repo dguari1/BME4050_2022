{
 "cells": [
  {
   "cell_type": "code",
   "execution_count": 2,
   "metadata": {},
   "outputs": [],
   "source": [
    "import sys\n",
    "from PyQt5 import QtWidgets, QtCore, uic\n"
   ]
  },
  {
   "cell_type": "code",
   "execution_count": 3,
   "metadata": {},
   "outputs": [
    {
     "ename": "SystemExit",
     "evalue": "0",
     "output_type": "error",
     "traceback": [
      "An exception has occurred, use %tb to see the full traceback.\n",
      "\u001b[1;31mSystemExit\u001b[0m\u001b[1;31m:\u001b[0m 0\n"
     ]
    },
    {
     "name": "stderr",
     "output_type": "stream",
     "text": [
      "C:\\ProgramData\\Anaconda3\\lib\\site-packages\\IPython\\core\\interactiveshell.py:3449: UserWarning: To exit: use 'exit', 'quit', or Ctrl-D.\n",
      "  warn(\"To exit: use 'exit', 'quit', or Ctrl-D.\", stacklevel=1)\n"
     ]
    }
   ],
   "source": [
    "class HomeWindow(QtWidgets.QMainWindow):\n",
    "    def __init__(self, *args, **kwargs):\n",
    "        super(HomeWindow, self).__init__(*args, **kwargs)\n",
    "\n",
    "        self.ui = uic.loadUi('UI_calc.ui', self)\n",
    "\n",
    "        \n",
    "        self.memory = None\n",
    "        self.operation = None\n",
    "        \n",
    "        #connect all buttons \n",
    "        self.pushButton_0.clicked.connect(self.number_button)\n",
    "        self.pushButton_1.clicked.connect(self.number_button)\n",
    "        self.pushButton_2.clicked.connect(self.number_button)\n",
    "        self.pushButton_3.clicked.connect(self.number_button)\n",
    "        self.pushButton_4.clicked.connect(self.number_button)\n",
    "        self.pushButton_5.clicked.connect(self.number_button)\n",
    "        self.pushButton_6.clicked.connect(self.number_button)\n",
    "        self.pushButton_7.clicked.connect(self.number_button)\n",
    "        self.pushButton_8.clicked.connect(self.number_button)\n",
    "        self.pushButton_9.clicked.connect(self.number_button)\n",
    "        \n",
    "        self.pushButton_dot.clicked.connect(self.dot_button)\n",
    "        \n",
    "        self.pushButton_Clear.clicked.connect(self.clear_button)\n",
    "        \n",
    "    \n",
    "    def number_button(self):\n",
    "        \n",
    "\n",
    "        #get current text in lineEdit\n",
    "        text = self.lineEdit.text()\n",
    "\n",
    "        #self.sender() contains information about who sent the signal\n",
    "        #self.sender().objectName() contains the name of who sent the signal\n",
    "        button_name = self.sender().objectName()\n",
    "        #the name is PushButton_No, where No represents the number in the button, \n",
    "        number = button_name.split('_')[-1]\n",
    "        #add the number pressed to the current number in the line edit \n",
    "        self.lineEdit.setText(text + number)\n",
    "        \n",
    "    def dot_button(self):\n",
    "        #get current text in lineEdit\n",
    "        text = self.lineEdit.text()\n",
    "        if text:\n",
    "            #check if there is at least one number in the text line\n",
    "            if '.' in text:\n",
    "                #only one dot allowed\n",
    "                pass\n",
    "            else:\n",
    "                #add a dot to the current number in the line edit \n",
    "                self.lineEdit.setText(text + '.')\n",
    "        \n",
    "    def pos_neg_button(self):\n",
    "        #get current text in lineEdit\n",
    "        text = self.lineEdit.text()\n",
    "        #convert text to number - use try to catch any errors\n",
    "        if text:\n",
    "            try:\n",
    "                number = float(text)\n",
    "                #change sign\n",
    "                number = -number\n",
    "                #conver number to string\n",
    "                text = str(number)\n",
    "                #print number with sign modified in the line edit \n",
    "                self.lineEdit.setText(text)\n",
    "            except:\n",
    "                #if error, then don't do anything\n",
    "                pass\n",
    "\n",
    "    def clear_button(self):\n",
    "\n",
    "        #after clear, the line edit will be empty\n",
    "        self.lineEdit.clear()\n",
    "        \n",
    "\n",
    "#run the pyqt code        \n",
    "def main():\n",
    "    app = QtCore.QCoreApplication.instance()\n",
    "    if app is None:\n",
    "        app = QtWidgets.QApplication(sys.argv)\n",
    "\n",
    "    w = HomeWindow()\n",
    "    w.setWindowTitle('Simple Calculator')\n",
    "    w.show()\n",
    "\n",
    "    sys.exit(app.exec_())\n",
    "\n",
    "\n",
    "if __name__ == '__main__':\n",
    "    main()"
   ]
  },
  {
   "cell_type": "code",
   "execution_count": null,
   "metadata": {},
   "outputs": [],
   "source": []
  }
 ],
 "metadata": {
  "kernelspec": {
   "display_name": "Python 3",
   "language": "python",
   "name": "python3"
  },
  "language_info": {
   "codemirror_mode": {
    "name": "ipython",
    "version": 3
   },
   "file_extension": ".py",
   "mimetype": "text/x-python",
   "name": "python",
   "nbconvert_exporter": "python",
   "pygments_lexer": "ipython3",
   "version": "3.8.3"
  }
 },
 "nbformat": 4,
 "nbformat_minor": 4
}
