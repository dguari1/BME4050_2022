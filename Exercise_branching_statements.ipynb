{
 "cells": [
  {
   "cell_type": "markdown",
   "id": "b30a13a7",
   "metadata": {},
   "source": [
    "In ```python``` you can read input from the keyboard and assign it to a variable using the special command ```input()```\n",
    "\n",
    "```python\n",
    "m = input()\n",
    "print(m)\n",
    "````\n",
    "\n",
    "The variable will be of the type string (```str```)"
   ]
  },
  {
   "cell_type": "code",
   "execution_count": null,
   "id": "411a4fc2",
   "metadata": {},
   "outputs": [],
   "source": [
    "#try it yourself\n",
    "m = input()\n",
    "print(f'You entered: {m}')\n",
    "print(type(m))"
   ]
  },
  {
   "cell_type": "markdown",
   "id": "fcaeb365",
   "metadata": {},
   "source": [
    "### Exercise 1\n",
    "\n",
    "Receive an input from the keyboard, if the input is a string, print it in uppercase."
   ]
  },
  {
   "cell_type": "code",
   "execution_count": null,
   "id": "13d31982",
   "metadata": {},
   "outputs": [],
   "source": [
    "#solution \n",
    "m = input()\n",
    "try:\n",
    "    n = float(m)\n",
    "except ValueError:\n",
    "    print(m.upper())\n"
   ]
  },
  {
   "cell_type": "markdown",
   "id": "11742219",
   "metadata": {},
   "source": [
    "### Exercise 2\n",
    "Receive an input from the keyboard, if the input is a string AND has more than two characters, print the second character in uppercase."
   ]
  },
  {
   "cell_type": "code",
   "execution_count": null,
   "id": "36821dcb",
   "metadata": {},
   "outputs": [],
   "source": [
    "#solution #2 \n",
    "m = input()\n",
    "try:\n",
    "    n = float(m)\n",
    "except ValueError:\n",
    "    if len(m) > 1:\n",
    "        print(m[1].upper())"
   ]
  },
  {
   "cell_type": "markdown",
   "id": "0e2687fc",
   "metadata": {},
   "source": [
    "### Exercise 3\n",
    "Receive an input from the keyboard, if the input is a string AND has more than two characters, print the string with the second character in uppercase."
   ]
  },
  {
   "cell_type": "markdown",
   "id": "0daa4b46",
   "metadata": {},
   "source": [
    "### Exercise 4\n",
    "Receive an input from the keyboard, if the input is a string AND has two words (separed by a space), print the the first word in uppercase."
   ]
  },
  {
   "cell_type": "code",
   "execution_count": null,
   "id": "482e0909",
   "metadata": {},
   "outputs": [],
   "source": [
    "#solution #4\n",
    "m = input()\n",
    "try:\n",
    "    n = float(m)\n",
    "except ValueError:\n",
    "    if ' ' in m:\n",
    "        words = m.split(' ')\n",
    "        if len(words) == 2:\n",
    "            print(words[0].upper() + ' ' + words[1])"
   ]
  },
  {
   "cell_type": "markdown",
   "id": "39201900",
   "metadata": {},
   "source": [
    "### Exercise 5\n",
    "Receive an input from the keyboard, if the input is a string AND has three words (separed by a space), print the the second word in uppercase."
   ]
  },
  {
   "cell_type": "markdown",
   "id": "51243d98",
   "metadata": {},
   "source": [
    "### Exercise 6\n",
    "Receive an input from the keyboard, if the input is a string AND has more than two words (separed by a space), print the the last word in uppercase."
   ]
  },
  {
   "cell_type": "code",
   "execution_count": null,
   "id": "3bf528e5",
   "metadata": {},
   "outputs": [],
   "source": [
    "#solution #6\n",
    "m = input()\n",
    "try:\n",
    "    n = float(m)\n",
    "except ValueError:\n",
    "    if ' ' in m:\n",
    "        words = m.split(' ')\n",
    "        no_last = ' '.join(words[:-1])\n",
    "        print(no_last+ ' ' + words[-1].upper())"
   ]
  },
  {
   "cell_type": "markdown",
   "id": "c7df68e3",
   "metadata": {},
   "source": [
    "### Exercise 6\n",
    "Receive an input from the keyboard, if the input is a number larger than 10, print its first digit "
   ]
  },
  {
   "cell_type": "markdown",
   "id": "f8aa0f84",
   "metadata": {},
   "source": [
    "### Exercise 7\n",
    "Receive an input from the keyboard, if the input is a number larger than 10, print its last digit "
   ]
  },
  {
   "cell_type": "markdown",
   "id": "1eb3e328",
   "metadata": {},
   "source": [
    "### Exercise 8\n",
    "Receive two number from the keyboard, each number must be separated by coma. If the inputs are numbers, then present the results of dividing the first over the second input. "
   ]
  },
  {
   "cell_type": "code",
   "execution_count": null,
   "id": "fdb8d667",
   "metadata": {},
   "outputs": [],
   "source": [
    "m = input('Enter two number separated by comma:')\n",
    "in1, in2 = m.split(',')\n",
    "print(in1, in2)"
   ]
  },
  {
   "cell_type": "code",
   "execution_count": null,
   "id": "3e89a116",
   "metadata": {},
   "outputs": [],
   "source": []
  }
 ],
 "metadata": {
  "kernelspec": {
   "display_name": "Python 3",
   "language": "python",
   "name": "python3"
  },
  "language_info": {
   "codemirror_mode": {
    "name": "ipython",
    "version": 3
   },
   "file_extension": ".py",
   "mimetype": "text/x-python",
   "name": "python",
   "nbconvert_exporter": "python",
   "pygments_lexer": "ipython3",
   "version": "3.8.3"
  }
 },
 "nbformat": 4,
 "nbformat_minor": 5
}
