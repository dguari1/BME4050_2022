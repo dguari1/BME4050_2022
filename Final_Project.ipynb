{
 "cells": [
  {
   "cell_type": "markdown",
   "id": "655c6d17",
   "metadata": {},
   "source": [
    "## Content:\n",
    "\n",
    "The objective of the final project is to address a biomedical problem using the techniques that we have learned in class. You are encouraged to use new techniques that we haven't discussed in class!\n",
    "\n",
    "1. Clear and concise description of the problem -- what and why?\n",
    "\n",
    "2. Clear and concise description of the data -- Where did you get it? how was it recorded? What does it mean? \n",
    "\n",
    "3. Clear description of the methods -- Provide a detailed description of the methods that you will use to solve the problem at hand with your data. \n",
    "\n",
    "4. Clear and concise description of the results \n",
    "\n",
    "5. Your code as a .ipynb file (the code must include clear comments and should run) -- If you code doesn't run then you will get a 30% penalty!\n",
    "\n",
    "Make sure that your provide all the necesary elements so that I can run your code."
   ]
  },
  {
   "cell_type": "code",
   "execution_count": null,
   "id": "eebc75ef",
   "metadata": {},
   "outputs": [],
   "source": []
  }
 ],
 "metadata": {
  "kernelspec": {
   "display_name": "Python 3",
   "language": "python",
   "name": "python3"
  },
  "language_info": {
   "codemirror_mode": {
    "name": "ipython",
    "version": 3
   },
   "file_extension": ".py",
   "mimetype": "text/x-python",
   "name": "python",
   "nbconvert_exporter": "python",
   "pygments_lexer": "ipython3",
   "version": "3.8.3"
  }
 },
 "nbformat": 4,
 "nbformat_minor": 5
}
