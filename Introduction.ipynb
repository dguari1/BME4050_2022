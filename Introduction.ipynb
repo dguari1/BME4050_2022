{
 "cells": [
  {
   "cell_type": "code",
   "execution_count": null,
   "id": "a159e75f",
   "metadata": {},
   "outputs": [],
   "source": []
  },
  {
   "attachments": {
    "download.jpg": {
     "image/jpeg": "[encoded data removed]"
    }
   },
   "cell_type": "markdown",
   "id": "e1751af7",
   "metadata": {
    "slideshow": {
     "slide_type": "slide"
    }
   },
   "source": [
    "# Jupyter Notebooks \n",
    "\n",
    "We will use Jupyter Notebooks for this class. Notebooks are handy in any programming task as they allow you to easily visualize your results without having to _compile_ the code. \n",
    "\n",
    "Each block in a Jupyter Notebook is call a **Cell**.\n",
    "There are two main types of cells:\n",
    "\n",
    "    - Code Cell\n",
    "    - Mardown Cell \n",
    "    \n",
    "## Code Cells\n",
    "These cells are used to input code, the python interpreter will try to compile these cells and produce errors if it can't\n",
    "\n",
    "## Markdown Cells\n",
    "These cells are used to input text and images (similar to a word processor). They use the **Markdown** language. They are extremelly versatile and allow you organize your code + text. You can also insert images, tables, and files in a markdown cell. Simply drag and drop the image when the cell is in Markdown model. \n",
    "\n",
    "Here is a kitten :) \n",
    "![download.jpg](attachment:download.jpg)\n",
    "\n",
    "    "
   ]
  },
  {
   "cell_type": "markdown",
   "id": "61c26a09",
   "metadata": {},
   "source": [
    "To execute a cell, simply press \n",
    "```\n",
    "    Shift+ Enter\n",
    "```\n",
    "\n",
    "The Markdown language is feature rich and offers many opportunities to create content. There is a lot of information online if you want to learn more. "
   ]
  },
  {
   "cell_type": "markdown",
   "id": "b159b0e5",
   "metadata": {},
   "source": [
    "# Python as a Calculator \n",
    "\n",
    "Python has the ability perform certain basic math operations. To perform more complex operations, you need to use **Python Packages**.\n",
    "\n",
    "Let us start from the most basic operations"
   ]
  },
  {
   "cell_type": "code",
   "execution_count": 1,
   "id": "8894203b",
   "metadata": {},
   "outputs": [
    {
     "data": {
      "text/plain": [
       "3"
      ]
     },
     "execution_count": 1,
     "metadata": {},
     "output_type": "execute_result"
    }
   ],
   "source": [
    "1 + 2"
   ]
  },
  {
   "cell_type": "markdown",
   "id": "c03c981a",
   "metadata": {},
   "source": [
    "Note: \n",
    "If you add a **;** at the end of your statment, the cell won't print the output."
   ]
  },
  {
   "cell_type": "code",
   "execution_count": 2,
   "id": "7dcdcff6",
   "metadata": {},
   "outputs": [],
   "source": [
    "1 + 2;"
   ]
  },
  {
   "cell_type": "code",
   "execution_count": 5,
   "id": "bf2c6020",
   "metadata": {},
   "outputs": [
    {
     "data": {
      "text/plain": [
       "5"
      ]
     },
     "execution_count": 5,
     "metadata": {},
     "output_type": "execute_result"
    }
   ],
   "source": [
    "1+2\n",
    "2+3\n",
    "3+4;"
   ]
  },
  {
   "cell_type": "markdown",
   "id": "e141235b",
   "metadata": {},
   "source": [
    "Note: If you have different operations in the same cell separate by a change in line, the cell will only print the result of the last operation"
   ]
  },
  {
   "cell_type": "code",
   "execution_count": 7,
   "id": "28e27e1b",
   "metadata": {},
   "outputs": [
    {
     "data": {
      "text/plain": [
       "(3, 5, 8)"
      ]
     },
     "execution_count": 7,
     "metadata": {},
     "output_type": "execute_result"
    }
   ],
   "source": [
    "1+2, 2+3, 3+5"
   ]
  },
  {
   "cell_type": "markdown",
   "id": "11083efe",
   "metadata": {},
   "source": [
    "Note: If separate the operations with **,**, the cell will print all the result "
   ]
  },
  {
   "cell_type": "markdown",
   "id": "9764cbf7",
   "metadata": {},
   "source": [
    "Jupyter has a special characted **_** that stores the outcome of the previous cell. For example"
   ]
  },
  {
   "cell_type": "code",
   "execution_count": 18,
   "id": "0609f321",
   "metadata": {},
   "outputs": [
    {
     "data": {
      "text/plain": [
       "0.4"
      ]
     },
     "execution_count": 18,
     "metadata": {},
     "output_type": "execute_result"
    }
   ],
   "source": [
    "#division \n",
    "2/5\n"
   ]
  },
  {
   "cell_type": "code",
   "execution_count": 19,
   "id": "e39b5f05",
   "metadata": {},
   "outputs": [
    {
     "data": {
      "text/plain": [
       "2.0"
      ]
     },
     "execution_count": 19,
     "metadata": {},
     "output_type": "execute_result"
    }
   ],
   "source": [
    "#multiplication \n",
    "_*5"
   ]
  },
  {
   "cell_type": "code",
   "execution_count": 20,
   "id": "83516917",
   "metadata": {},
   "outputs": [
    {
     "data": {
      "text/plain": [
       "4.0"
      ]
     },
     "execution_count": 20,
     "metadata": {},
     "output_type": "execute_result"
    }
   ],
   "source": [
    "#power \n",
    "2**_"
   ]
  },
  {
   "cell_type": "markdown",
   "id": "d25f059c",
   "metadata": {},
   "source": [
    "Let us try to compute a more complex math operation \n",
    "\n",
    "$$\n",
    "\\frac{2x6}{\\left(2^3 + \\frac{4}{5}\\right)}\n",
    "$$\n",
    "\n",
    "By the way, you can also use $\\LaTeX$ in Jupyter Notebooks, so that you can write comples mathematical notation here in the notebook"
   ]
  },
  {
   "cell_type": "code",
   "execution_count": 23,
   "id": "9d59dca4",
   "metadata": {},
   "outputs": [
    {
     "data": {
      "text/plain": [
       "1.3636363636363635"
      ]
     },
     "execution_count": 23,
     "metadata": {},
     "output_type": "execute_result"
    }
   ],
   "source": [
    "(2*6)/(2**3 + (4/5))"
   ]
  },
  {
   "cell_type": "markdown",
   "id": "9f00be97",
   "metadata": {},
   "source": [
    "What if I want to compute a more complex operation, like\n",
    "$$\n",
    "2\\pi\\sin(\\frac{\\pi}{4})\n",
    "$$\n",
    "\n",
    "We can try that directly and see what happens "
   ]
  },
  {
   "cell_type": "code",
   "execution_count": 12,
   "id": "2408373a",
   "metadata": {},
   "outputs": [
    {
     "ename": "NameError",
     "evalue": "name 'pi' is not defined",
     "output_type": "error",
     "traceback": [
      "\u001b[1;31m---------------------------------------------------------------------------\u001b[0m",
      "\u001b[1;31mNameError\u001b[0m                                 Traceback (most recent call last)",
      "\u001b[1;32m<ipython-input-12-5c4d1fd913c3>\u001b[0m in \u001b[0;36m<module>\u001b[1;34m\u001b[0m\n\u001b[1;32m----> 1\u001b[1;33m \u001b[1;36m2\u001b[0m\u001b[1;33m*\u001b[0m\u001b[0mpi\u001b[0m\u001b[1;33m*\u001b[0m\u001b[0msin\u001b[0m\u001b[1;33m(\u001b[0m\u001b[0mpi\u001b[0m\u001b[1;33m/\u001b[0m\u001b[1;36m4\u001b[0m\u001b[1;33m)\u001b[0m\u001b[1;33m\u001b[0m\u001b[1;33m\u001b[0m\u001b[0m\n\u001b[0m",
      "\u001b[1;31mNameError\u001b[0m: name 'pi' is not defined"
     ]
    }
   ],
   "source": [
    "2*pi*sin(pi/4)"
   ]
  },
  {
   "cell_type": "markdown",
   "id": "e1ef7dac",
   "metadata": {},
   "source": [
    "It is telling me that it doesn know what **pi** is. Let us use the value of pi"
   ]
  },
  {
   "cell_type": "code",
   "execution_count": 13,
   "id": "1a5842b8",
   "metadata": {},
   "outputs": [
    {
     "ename": "NameError",
     "evalue": "name 'sin' is not defined",
     "output_type": "error",
     "traceback": [
      "\u001b[1;31m---------------------------------------------------------------------------\u001b[0m",
      "\u001b[1;31mNameError\u001b[0m                                 Traceback (most recent call last)",
      "\u001b[1;32m<ipython-input-13-c183c642881f>\u001b[0m in \u001b[0;36m<module>\u001b[1;34m\u001b[0m\n\u001b[1;32m----> 1\u001b[1;33m \u001b[1;36m2\u001b[0m\u001b[1;33m*\u001b[0m\u001b[1;33m(\u001b[0m\u001b[1;36m3.141516\u001b[0m\u001b[1;33m)\u001b[0m\u001b[1;33m*\u001b[0m\u001b[0msin\u001b[0m\u001b[1;33m(\u001b[0m\u001b[1;33m(\u001b[0m\u001b[1;36m3.141516\u001b[0m\u001b[1;33m)\u001b[0m\u001b[1;33m/\u001b[0m\u001b[1;36m4\u001b[0m\u001b[1;33m)\u001b[0m\u001b[1;33m\u001b[0m\u001b[1;33m\u001b[0m\u001b[0m\n\u001b[0m",
      "\u001b[1;31mNameError\u001b[0m: name 'sin' is not defined"
     ]
    }
   ],
   "source": [
    "2*(3.141516)*sin((3.141516)/4)"
   ]
  },
  {
   "cell_type": "markdown",
   "id": "9992810f",
   "metadata": {},
   "source": [
    "Now is telling me that it doesn know what **sin** is. \n",
    "\n",
    "## Python doesn't know math beyond basic operations \n",
    "\n",
    "We need to use **Packages** which are basically pieces of code that someone else created so solve specific problems. We will use the \n",
    "```\n",
    "math\n",
    "```\n",
    " package to do adavence math operations"
   ]
  },
  {
   "cell_type": "code",
   "execution_count": 2,
   "id": "cedd1821",
   "metadata": {},
   "outputs": [],
   "source": [
    "import math\n"
   ]
  },
  {
   "cell_type": "code",
   "execution_count": 3,
   "id": "3f87a7d0",
   "metadata": {},
   "outputs": [
    {
     "data": {
      "text/plain": [
       "3.141592653589793"
      ]
     },
     "execution_count": 3,
     "metadata": {},
     "output_type": "execute_result"
    }
   ],
   "source": [
    "math.pi"
   ]
  },
  {
   "cell_type": "code",
   "execution_count": 4,
   "id": "83cf03d1",
   "metadata": {},
   "outputs": [
    {
     "data": {
      "text/plain": [
       "0.7071067811865476"
      ]
     },
     "execution_count": 4,
     "metadata": {},
     "output_type": "execute_result"
    }
   ],
   "source": [
    "math.sin(_/4)"
   ]
  },
  {
   "cell_type": "markdown",
   "id": "13963473",
   "metadata": {},
   "source": [
    "The math package provides access to many common mathematical operations. You can access those operations by using the dot notation\n",
    "\n",
    "``` python\n",
    "\n",
    "math.TheNameofTheOperation\n",
    "\n",
    "```\n",
    "\n",
    "To know which operations are avaliable in the math package, simple press **Tab** after the dot and you will see a list of available functions. \n",
    "\n",
    "To learn more about a specific function, you can use the **?** notation\n",
    "\n",
    "``` python\n",
    "\n",
    "math.sin?\n",
    "\n",
    "```\n",
    "\n",
    "Using the **?** notation will open the documentation of the function. \n",
    "\n",
    "\n",
    "\n",
    "You could also import a single function from the package. That way, you avoid using more memory that you need\n",
    "``` python\n",
    "\n",
    "from math import sin, pi\n",
    "2*sin((pi)/4)\n",
    "\n",
    "```"
   ]
  },
  {
   "cell_type": "code",
   "execution_count": 23,
   "id": "0ebea72b",
   "metadata": {},
   "outputs": [
    {
     "data": {
      "text/plain": [
       "4.0"
      ]
     },
     "execution_count": 23,
     "metadata": {},
     "output_type": "execute_result"
    }
   ],
   "source": [
    "#square root\n",
    "math.sqrt(16)"
   ]
  },
  {
   "cell_type": "code",
   "execution_count": 26,
   "id": "69a4e78e",
   "metadata": {},
   "outputs": [
    {
     "data": {
      "text/plain": [
       "(1.0, 1.0, 1.0)"
      ]
     },
     "execution_count": 26,
     "metadata": {},
     "output_type": "execute_result"
    }
   ],
   "source": [
    "#logarith\n",
    "math.log10(10), math.log(math.e), math.log2(2)"
   ]
  },
  {
   "cell_type": "markdown",
   "id": "04eae552",
   "metadata": {},
   "source": [
    "### Exponent\n",
    "\n",
    "Write the following expression in code using the functions \n",
    "```python\n",
    "\n",
    "math.exp\n",
    "math.log\n",
    "math.e\n",
    "\n",
    "```\n",
    "\n",
    "$$\n",
    "\\huge{e^{log_{e}(e)} }\n",
    "$$"
   ]
  },
  {
   "cell_type": "markdown",
   "id": "401f2872",
   "metadata": {},
   "source": [
    "Python can also handle complex numbers and operations "
   ]
  },
  {
   "cell_type": "code",
   "execution_count": null,
   "id": "b28fd0fc",
   "metadata": {},
   "outputs": [],
   "source": [
    "%load .\\solutions\\lect_1_ex1.py"
   ]
  },
  {
   "cell_type": "markdown",
   "id": "043b3ab0",
   "metadata": {},
   "source": [
    "Another importnat package that we will use is **numpy**. Numpy includes most of the functions in the math package and much more. \n",
    "\n",
    "Numpy can be imported and used as \n",
    "```python\n",
    "\n",
    "import numpy as np \n",
    "np.sin(np.pi/4)\n",
    "\n",
    "```"
   ]
  },
  {
   "cell_type": "markdown",
   "id": "c50632d6",
   "metadata": {},
   "source": [
    "## Exercise\n",
    "\n",
    "Write the following expression in code using *numpy* instead of *math* package.\n",
    "\n",
    "$$\n",
    "\\huge{e^{log_{e}(e)} }\n",
    "$$"
   ]
  },
  {
   "cell_type": "code",
   "execution_count": null,
   "id": "661bd8fc",
   "metadata": {},
   "outputs": [],
   "source": [
    "%load .\\solutions\\lect_1_ex2.py"
   ]
  },
  {
   "cell_type": "markdown",
   "id": "047e31fd",
   "metadata": {},
   "source": [
    "## Fin"
   ]
  }
 ],
 "metadata": {
  "kernelspec": {
   "display_name": "Python 3",
   "language": "python",
   "name": "python3"
  },
  "language_info": {
   "codemirror_mode": {
    "name": "ipython",
    "version": 3
   },
   "file_extension": ".py",
   "mimetype": "text/x-python",
   "name": "python",
   "nbconvert_exporter": "python",
   "pygments_lexer": "ipython3",
   "version": "3.8.3"
  }
 },
 "nbformat": 4,
 "nbformat_minor": 5
}
