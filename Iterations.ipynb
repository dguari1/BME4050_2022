{
 "cells": [
  {
   "cell_type": "markdown",
   "id": "7e177a0d",
   "metadata": {},
   "source": [
    "# Iterations\n",
    "\n",
    "Many tasks require doing the same basic actions over and over again—iterating—in slightly different contexts. Since repetitive tasks appear so frequently, it is only natural that programming languages like Python would have direct methods of performing iteration.\n",
    "\n",
    "Next, we will learn the basic ways to program iterative tasks. \n",
    "\n",
    "# For Loops\n",
    "\n",
    "A for-loop is a set of instructions that is repeated, or iterated, for every value in a sequence. Sometimes for-loops are referred to as definite loops because they have a predefined begin and end as bounded by the sequence.\n",
    "\n",
    "A for-loop is build as follows :\n",
    "```python\n",
    "\n",
    "for looping variable in sequence:\n",
    "    code block\n",
    "\n",
    "```"
   ]
  },
  {
   "cell_type": "code",
   "execution_count": 1,
   "id": "0b0699a9",
   "metadata": {},
   "outputs": [
    {
     "name": "stdout",
     "output_type": "stream",
     "text": [
      "1\n",
      "2\n",
      "3\n"
     ]
    }
   ],
   "source": [
    "\n",
    "for n in [1,2,3]:\n",
    "    print(n)\n",
    "    "
   ]
  },
  {
   "cell_type": "markdown",
   "id": "a45892c3",
   "metadata": {},
   "source": [
    "WHAT IS HAPPENING?\n",
    "\n",
    "1. The variable n is assigned the value 1, the first element in the list.\n",
    "\n",
    "2. The variable n is assigned the value 2, the second element in the list.\n",
    "\n",
    "3. The variable i is assigned the value 3, the third element in the list.\n",
    "\n",
    "With no more values to assign in the list, the for-loop is terminated with n = 3."
   ]
  },
  {
   "cell_type": "code",
   "execution_count": 3,
   "id": "8d0f283a",
   "metadata": {},
   "outputs": [
    {
     "name": "stdout",
     "output_type": "stream",
     "text": [
      "1\n",
      "2\n",
      "3\n"
     ]
    }
   ],
   "source": [
    "#we can do the same with a python command called 'range()'\n",
    "for n in range(1,4):\n",
    "    print(n)"
   ]
  },
  {
   "cell_type": "markdown",
   "id": "6e1b08b4",
   "metadata": {},
   "source": [
    "The function ```range(1, 4)``` is generating a list of numbers beginning at 1 and ending at 3.\n",
    "\n",
    "```range()``` can be used to generate an ordered sequence of numbers\n",
    "\n",
    "````python\n",
    "\n",
    "range(start, end, step)\n",
    "\n",
    "````\n",
    "\n",
    "- The ```end``` value is not inclusive \n",
    "- The ```start``` value is optional, if not included, the default value is zero\n",
    "- The ```step``` value is optional, if not included, the default value is one"
   ]
  },
  {
   "cell_type": "code",
   "execution_count": null,
   "id": "a735add2",
   "metadata": {},
   "outputs": [],
   "source": [
    "#example, what will happen here?\n",
    "for i in range(10):\n",
    "    print('apple', i)"
   ]
  },
  {
   "cell_type": "code",
   "execution_count": null,
   "id": "fbcf077e",
   "metadata": {},
   "outputs": [],
   "source": [
    "#example, What will happen here?\n",
    "for i in range(10):\n",
    "    print('apple'*i)"
   ]
  },
  {
   "cell_type": "code",
   "execution_count": null,
   "id": "b166d7f3",
   "metadata": {},
   "outputs": [],
   "source": [
    "#example, print the characters in the word apple\n",
    "word = 'apple'\n",
    "for i in range(len(word)):\n",
    "    print(word[i])"
   ]
  },
  {
   "cell_type": "code",
   "execution_count": null,
   "id": "6b7bffc5",
   "metadata": {},
   "outputs": [],
   "source": [
    "#example, What will happen here?\n",
    "for i in 'apple':\n",
    "    print(i)"
   ]
  },
  {
   "cell_type": "code",
   "execution_count": null,
   "id": "893e8799",
   "metadata": {},
   "outputs": [],
   "source": [
    "#sum the numbers in a list\n",
    "s = 0\n",
    "a = [2, 3, 1, 3, 3]\n",
    "for i in a:\n",
    "    s += i # note this is equivalent to s = s + i\n",
    "\n",
    "print(s)"
   ]
  },
  {
   "cell_type": "code",
   "execution_count": null,
   "id": "c8e3bd68",
   "metadata": {},
   "outputs": [],
   "source": [
    "#example, sum the numbers in a list using index\n",
    "s = 0\n",
    "a = [2, 3, 1, 3, 3]\n",
    "for i in range(len(a)):\n",
    "    s += a[i]\n",
    "    \n",
    "print(s)"
   ]
  },
  {
   "cell_type": "code",
   "execution_count": null,
   "id": "8e8d282d",
   "metadata": {},
   "outputs": [],
   "source": [
    "#exercise: Sum every other value in a list \n",
    "s = 0\n",
    "a = [2, 3, 1, 3, 3]\n",
    "\n",
    "# your code here\n",
    "\n",
    "print(s)\n",
    "\n"
   ]
  },
  {
   "cell_type": "code",
   "execution_count": null,
   "id": "784b0dcd",
   "metadata": {},
   "outputs": [],
   "source": [
    "#sum the numbers in a list if they satisfy a condition \n",
    "s = 0\n",
    "a = [2, 3, 1, 3, 3]\n",
    "for i in a:\n",
    "    \n",
    "    if i>= 3:\n",
    "        s += i # note this is equivalent to s = s + i\n",
    "    \n",
    "print(s)"
   ]
  },
  {
   "cell_type": "markdown",
   "id": "e7d28197",
   "metadata": {},
   "source": [
    "Note that, we could assign two different looping variables at the same time. For example, if we have two lists with same length, and we want to loop through them, we could do it using the zip function:\n",
    "\n"
   ]
  },
  {
   "cell_type": "code",
   "execution_count": null,
   "id": "182f6132",
   "metadata": {},
   "outputs": [],
   "source": [
    "a = [\"One\", \"Two\", \"Three\"]\n",
    "b = [1, 2, 3]\n",
    "\n",
    "for i, j in zip(a, b):\n",
    "    print(i, j)"
   ]
  },
  {
   "cell_type": "code",
   "execution_count": null,
   "id": "ef85fcff",
   "metadata": {},
   "outputs": [],
   "source": [
    "#if the lists have different lenghts ??\n",
    "a = [\"One\", \"Two\", \"Three\"]\n",
    "b = [1, 2]\n",
    "\n",
    "for i, j in zip(a, b):\n",
    "    print(i, j)"
   ]
  },
  {
   "cell_type": "markdown",
   "id": "0a947a01",
   "metadata": {},
   "source": [
    "Python allows you to iterate over the keys of a dictionary "
   ]
  },
  {
   "cell_type": "code",
   "execution_count": null,
   "id": "9fcf4a45",
   "metadata": {},
   "outputs": [],
   "source": [
    "dict_a = {\"One\":1, \"Two\":2, \"Three\":3}\n",
    "\n",
    "for key in dict_a.keys():\n",
    "    print(key, dict_a[key])"
   ]
  },
  {
   "cell_type": "code",
   "execution_count": null,
   "id": "df94a749",
   "metadata": {},
   "outputs": [],
   "source": [
    "for key, value in dict_a.items():\n",
    "    print(key, value)"
   ]
  },
  {
   "cell_type": "markdown",
   "id": "d60940a0",
   "metadata": {},
   "source": [
    "The ```enumerate``` function is useful to loop over the values and index of a list "
   ]
  },
  {
   "cell_type": "code",
   "execution_count": null,
   "id": "d6cab656",
   "metadata": {},
   "outputs": [],
   "source": [
    "s = 0\n",
    "a = [2, 3, 1, 3, 3]\n",
    "for idx, i in enumerate(a):\n",
    "    print(idx, i)\n",
    "    "
   ]
  },
  {
   "cell_type": "code",
   "execution_count": null,
   "id": "351469e9",
   "metadata": {},
   "outputs": [],
   "source": [
    "#exercise: Sum every other value in a list using enumerate  \n",
    "s = 0\n",
    "a = [2, 3, 1, 3, 3]\n",
    "\n",
    "for idx, i in enumerate(a):\n",
    "\n",
    "    # your code here\n",
    "\n",
    "print(s)"
   ]
  },
  {
   "cell_type": "markdown",
   "id": "83e69565",
   "metadata": {},
   "source": [
    "### Mini Challenge 1 \n",
    "\n",
    "Write a function that takes a string and validates if at least one of the characters is a number. You can use the  ```.isdigit()``` method of the string to check if the character is a digit.\n",
    "\n",
    "Example: \n",
    "```python\n",
    "my_function('1hola2') -> True \n",
    "```\n",
    "\n",
    "### Mini Challenge 2\n",
    "\n",
    "Write a function that takes a string and returns the sum of all numbers in the string. You can use the ```.isdigit()``` method of the string to check if the character is a digit.\n",
    "\n",
    "Example: \n",
    "```python\n",
    "my_function('1hola2') -> 3\n",
    "```\n",
    "\n",
    "### Mini Challenge 3\n",
    "\n",
    "Write a function that takes a string and removes the numbers from the string. You can use the ```.isdigit()``` method of the string to check if the character is a digit.\n",
    "\n",
    "\n",
    "Example: \n",
    "```python\n",
    "my_function('1hola2') -> 'hola'\n",
    "```"
   ]
  },
  {
   "cell_type": "markdown",
   "id": "3ed1a53c",
   "metadata": {},
   "source": [
    "There are two important keyword to manipulate loops \n",
    "\n",
    "```python\n",
    "break \n",
    "```\n",
    "\n",
    "```break``` will exit the for-loop.\n",
    "\n",
    "```python\n",
    "continue\n",
    "```\n",
    "\n",
    "```continue``` will skip one iteration "
   ]
  },
  {
   "cell_type": "code",
   "execution_count": null,
   "id": "cfa54439",
   "metadata": {},
   "outputs": [],
   "source": [
    "#example of break \n",
    "for i in range(5):\n",
    "    \n",
    "    print(i)\n",
    "    \n",
    "    if i==3:\n",
    "        break"
   ]
  },
  {
   "cell_type": "code",
   "execution_count": null,
   "id": "6c19d417",
   "metadata": {},
   "outputs": [],
   "source": [
    "#example of break \n",
    "\n",
    "# what is going to be printed??\n",
    "for i in range(5):\n",
    "    if i==3:\n",
    "        break\n",
    "    \n",
    "    print(i)"
   ]
  },
  {
   "cell_type": "code",
   "execution_count": null,
   "id": "6bfe28bc",
   "metadata": {},
   "outputs": [],
   "source": [
    "#example of continue\n",
    "for i in range(5):\n",
    "    \n",
    "    if i==3:\n",
    "        continue\n",
    "        \n",
    "    print(i)\n",
    "    "
   ]
  },
  {
   "cell_type": "code",
   "execution_count": null,
   "id": "544adcad",
   "metadata": {},
   "outputs": [],
   "source": [
    "#example of continue\n",
    "\n",
    "# what is going to be printed??\n",
    "for i in range(5):\n",
    "    \n",
    "    print(i)\n",
    "    \n",
    "    if i==3:\n",
    "        continue\n",
    "        \n",
    "    "
   ]
  },
  {
   "cell_type": "markdown",
   "id": "c1c231dd",
   "metadata": {},
   "source": [
    "## Nested loops \n",
    "Just like if-statements, for-loops can be nested."
   ]
  },
  {
   "cell_type": "code",
   "execution_count": null,
   "id": "d7e40f14",
   "metadata": {},
   "outputs": [],
   "source": [
    "#sum the elements of a numpy array \n",
    "x = [[5, 6], [7, 8]]\n",
    "s = 0\n",
    "for i in range(2):\n",
    "    for j in range(2):\n",
    "        s += x[i][j]\n",
    "        \n",
    "print(s)"
   ]
  },
  {
   "cell_type": "markdown",
   "id": "eecc34e0",
   "metadata": {},
   "source": [
    "# While Loops\n",
    "\n",
    "A for-loop is a set of instructions that is repeated, or iterated, as long a condition is true \n",
    "\n",
    "A while-loop is built as follows :\n",
    "```python\n",
    "\n",
    "while <logical expression>:\n",
    "    # Code block to be repeated until logical statement is false\n",
    "    code block\n",
    "\n",
    "```"
   ]
  },
  {
   "cell_type": "code",
   "execution_count": null,
   "id": "0ebfb77a",
   "metadata": {},
   "outputs": [],
   "source": [
    "n = 10\n",
    "\n",
    "while n>1:\n",
    "    \n",
    "    print(n)\n",
    "    \n",
    "    n = n/2 "
   ]
  },
  {
   "cell_type": "markdown",
   "id": "ce160b0a",
   "metadata": {},
   "source": [
    "While-loops are dangerous as it is easy to create *infinite loops*. "
   ]
  },
  {
   "cell_type": "code",
   "execution_count": null,
   "id": "574538bd",
   "metadata": {},
   "outputs": [],
   "source": [
    "n = 0\n",
    "while n > -1:\n",
    "    n += 1"
   ]
  },
  {
   "cell_type": "markdown",
   "id": "ee7290c7",
   "metadata": {},
   "source": [
    "This iteration will never end, the only way to stop the iteration is to Stop, Restart or Shutdown the kernel. \n",
    "\n",
    "Note that by Stopping, Restarting, or Shutting down your kernel, you will loss all the information (variables) stored in the kernel. "
   ]
  },
  {
   "cell_type": "markdown",
   "id": "55b360e3",
   "metadata": {},
   "source": [
    "# List and dictionary comprehension*\n",
    "\n",
    "\n",
    "In Python, comprehensions are an important and popular to create lists or dictionaries. Comprehensions allow sequences to be created from other sequence with a compact syntax.\n"
   ]
  },
  {
   "cell_type": "code",
   "execution_count": null,
   "id": "ef0778ed",
   "metadata": {},
   "outputs": [],
   "source": [
    "#Example, create a list by squaring the numbers from 0 to 4\n",
    "\n",
    "y = []\n",
    "for i in range(5):\n",
    "    y.append(i**2)\n",
    "print(y)\n"
   ]
  },
  {
   "cell_type": "code",
   "execution_count": null,
   "id": "a2bd9077",
   "metadata": {},
   "outputs": [],
   "source": [
    "#the same result can be achieve using a compact sintaxins \n",
    "\n",
    "y = [i**2 for i in range(5)]\n",
    "\n",
    "print(y)"
   ]
  },
  {
   "cell_type": "code",
   "execution_count": null,
   "id": "567beaa5",
   "metadata": {},
   "outputs": [],
   "source": [
    "y = []\n",
    "for i in range(1,5):\n",
    "    for j in range(2):\n",
    "        y.append(i**j)\n",
    "print(y)"
   ]
  },
  {
   "cell_type": "code",
   "execution_count": null,
   "id": "cba11413",
   "metadata": {},
   "outputs": [],
   "source": [
    "y = [i**j for i in range(1,5) for j in range(2)]\n",
    "print(y)"
   ]
  },
  {
   "cell_type": "markdown",
   "id": "6eb7d7c6",
   "metadata": {},
   "source": [
    "Similarly, we can do dictionary comprehension"
   ]
  },
  {
   "cell_type": "code",
   "execution_count": null,
   "id": "b43f8a58",
   "metadata": {},
   "outputs": [],
   "source": [
    "x = {'a': 1, 'b': 2, 'c': 3}\n",
    "\n",
    "y = {key:v**3 for (key, v) in x.items()}\n",
    "print(y)"
   ]
  }
 ],
 "metadata": {
  "kernelspec": {
   "display_name": "Python 3",
   "language": "python",
   "name": "python3"
  },
  "language_info": {
   "codemirror_mode": {
    "name": "ipython",
    "version": 3
   },
   "file_extension": ".py",
   "mimetype": "text/x-python",
   "name": "python",
   "nbconvert_exporter": "python",
   "pygments_lexer": "ipython3",
   "version": "3.8.3"
  }
 },
 "nbformat": 4,
 "nbformat_minor": 5
}
