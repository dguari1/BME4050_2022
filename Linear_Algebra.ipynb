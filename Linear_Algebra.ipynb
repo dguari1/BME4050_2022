{
 "cells": [
  {
   "cell_type": "markdown",
   "id": "5c383893",
   "metadata": {},
   "source": [
    "## Linear Algebra\n",
    "\n",
    "Linear algebra refers to the study of linear relationships. In this class, we will cover some basic concepts of linear algebra that are needed to understand some more advanced and *practical* concepts and definitions. If you are interested in the concepts related to linear algebra and application, there is an excellent online series that covers these topics in detail \n",
    "\n",
    "https://github.com/fastai/numerical-linear-algebra\n",
    "\n",
    "\n",
    "Linear algebra is a fundamental component of machine learning, so if you are interested in using machine learning in the future go and check that class. \n"
   ]
  },
  {
   "cell_type": "markdown",
   "id": "e9abc4fc",
   "metadata": {},
   "source": [
    "### Vectors\n",
    "\n",
    "A vector is a collection of numbers. Vectors can be **row vectors** or **column vectors** depending on their orientation. In general, you can assume that a vector is a **column vector** unless otherwise stated. \n"
   ]
  },
  {
   "cell_type": "code",
   "execution_count": 30,
   "id": "75d4bc65",
   "metadata": {},
   "outputs": [
    {
     "data": {
      "image/png": "[encoded data removed]",
      "text/plain": [
       "<Figure size 640x480 with 1 Axes>"
      ]
     },
     "metadata": {},
     "output_type": "display_data"
    }
   ],
   "source": [
    "#we are used to 2d vectors\n",
    "import numpy as np\n",
    "import matplotlib.pyplot as plt\n",
    "vector1 = np.array([[1,1]])\n",
    "vector2 = np.array([[-3,2]])\n",
    "plt.quiver(0,0,*vector1[0], angles='xy', scale_units='xy', scale=1)\n",
    "plt.quiver(0,0,*vector2[0],vector2[0,1], angles='xy', scale_units='xy', scale=1)\n",
    "plt.axhline(y=0, color=\"black\", lw=0.5)\n",
    "plt.axvline(x=0, color=\"black\", lw=0.5)\n",
    "plt.xlim([-5,5])\n",
    "plt.ylim([-5,5])\n",
    "plt.grid(lw=0.25)\n",
    "plt.show()"
   ]
  },
  {
   "cell_type": "code",
   "execution_count": null,
   "id": "69a69ee7",
   "metadata": {},
   "outputs": [],
   "source": [
    "import numpy as np\n",
    "vector_row = np.array([[1, -5, 3, 2, 4]])\n",
    "vector_column = np.array([[1], \n",
    "                          [2], \n",
    "                          [3], \n",
    "                          [4]])\n",
    "print(vector_row.shape)\n",
    "print(vector_column.shape)"
   ]
  },
  {
   "cell_type": "markdown",
   "id": "d51a56d0",
   "metadata": {},
   "source": [
    "The transpose ($T$) of a vector is an operation that transform a column vector into a row vector and a row vector into a column vector. If $v$ is a vector, then $v^{T}$ is the transpose."
   ]
  },
  {
   "cell_type": "code",
   "execution_count": null,
   "id": "8c45b66b",
   "metadata": {},
   "outputs": [],
   "source": [
    "vector_row, vector_row.T"
   ]
  },
  {
   "cell_type": "markdown",
   "id": "4e91f58c",
   "metadata": {},
   "source": [
    "The norm of a vector is a measure of its lenght. There are many ways to measure lenght and you can use different definitions depending on the application. The most common norm is the $L_2$ norm, if $v$ is a vector, then the $L_2$ norm ($\\Vert v \\Vert_{2}$) is \n",
    "\n",
    "$$\n",
    "\\Vert v \\Vert_{2} = \\sqrt{\\sum_i v_i^2}\n",
    "$$\n",
    "\n",
    "This is also known as the Euclidian norm. \n",
    "\n",
    "Others well known norms are the $L_1$ norm (or Manhattan Distance), and the $L_\\infty$ norm (or infinity norm) equal to the maximum absolut value of the vector "
   ]
  },
  {
   "cell_type": "code",
   "execution_count": null,
   "id": "fb8c3d0d",
   "metadata": {},
   "outputs": [],
   "source": [
    "from numpy.linalg import norm\n",
    "new_vector = vector_row.T\n",
    "norm_1 = norm(new_vector, 1)\n",
    "norm_2 = norm(new_vector, 2)\n",
    "norm_inf = norm(new_vector, np.inf)\n",
    "print('L_1 is: %.1f'%norm_1)\n",
    "print('L_2 is: %.1f'%norm_2)\n",
    "print('L_inf is: %.1f'%norm_inf)"
   ]
  },
  {
   "cell_type": "markdown",
   "id": "9d244f85",
   "metadata": {},
   "source": [
    "The **dot product**  of two vectors is the sum of the product of the respective elements in each vector and is denoted by $\\cdot$. If $v$ and $w$ are vectors, then the dot product is defined as \n",
    "$$\n",
    "d = v \\cdot w= \\sum_{i = 1}^{n} v_iw_i\n",
    "$$\n",
    "\n",
    "alternatively, the dot product can be computed as \n",
    "\n",
    "$$\n",
    "v \\cdot w = \\Vert v \\Vert_{2} \\Vert w \\Vert_{2} \\cos{\\theta}\n",
    "$$\n",
    "\n",
    "where $\\theta$ is the angle between the vectors. In the same way, the angle between two vector can be computed as \n",
    "\n",
    "$$\n",
    "\\theta = cos^{-1}\\left[\\frac{v \\cdot w }{\\Vert v \\Vert_{2} \\Vert w \\Vert_{2}}\\right]\n",
    "$$"
   ]
  },
  {
   "cell_type": "code",
   "execution_count": null,
   "id": "9684c9fe",
   "metadata": {},
   "outputs": [],
   "source": [
    "#lets take two vectors that are on the same direction but have different lenghts \n",
    "from numpy import arccos, dot\n",
    "v = np.array([[1,2]])\n",
    "w = np.array([[5,10]])\n",
    "theta = arccos(v.dot(w.T)/(norm(v)*norm(w)))\n",
    "theta*(180/pi) #arcos return gradients, we are convering to degrees"
   ]
  },
  {
   "cell_type": "code",
   "execution_count": null,
   "id": "a06afa3c",
   "metadata": {},
   "outputs": [],
   "source": [
    "#lets take two vectors that are on opposite directions \n",
    "from numpy import arccos, dot, pi\n",
    "v = np.array([[1,2]])\n",
    "w = np.array([[-1,-2]])\n",
    "theta = arccos(v.dot(w.T)/(norm(v)*norm(w)))\n",
    "theta*(180/pi) #arcos return gradients, we are convering to degrees "
   ]
  },
  {
   "cell_type": "code",
   "execution_count": null,
   "id": "5e2ab39c",
   "metadata": {},
   "outputs": [],
   "source": [
    "#lets take two vectors that are on orthogonal to eachother \n",
    "from numpy import arccos, dot, pi\n",
    "v = np.array([[1,1]])\n",
    "w = np.array([[-1,1]])\n",
    "theta = arccos(v.dot(w.T)/(norm(v)*norm(w)))\n",
    "theta*(180/pi) #arcos return gradients, we are convering to degrees "
   ]
  },
  {
   "attachments": {
    "098c028a-6ce4-4452-b428-8b2421a382ff.png": {
     "image/png": "[encoded data removed]"
    }
   },
   "cell_type": "markdown",
   "id": "c5e4236d",
   "metadata": {},
   "source": [
    "The **cross product** between two vectors, $v$ and $w$, is written $v\\times w$. It is defined by \n",
    "\n",
    "$$\n",
    "v \\times w = \\Vert v \\Vert_{2}\\Vert w \\Vert_{2}\\sin{(\\theta)} \n",
    "$$\n",
    "\n",
    "where $θ$ is the angle between the $v$ and $w$.\n",
    "\n",
    "The geometric interpretation of the cross product is a vector perpendicular to both $v$ and $w$ with length (as measured by $L_2$) equal to the area enclosed by the parallelogram created by the two vectors.\n",
    "\n",
    "![image.png](attachment:098c028a-6ce4-4452-b428-8b2421a382ff.png)"
   ]
  },
  {
   "cell_type": "code",
   "execution_count": null,
   "id": "8db18570",
   "metadata": {},
   "outputs": [],
   "source": [
    "v = np.array([[0, 2, 0]])\n",
    "w = np.array([[3, 0, 0]])\n",
    "cross = np.cross(v, w)\n",
    "print(cross)"
   ]
  },
  {
   "cell_type": "code",
   "execution_count": null,
   "id": "b2b61ce8",
   "metadata": {},
   "outputs": [],
   "source": [
    "arccos(v.dot(cross.T)/(norm(v)*norm(cross)))*(180/pi)"
   ]
  },
  {
   "cell_type": "code",
   "execution_count": null,
   "id": "24c0879c",
   "metadata": {},
   "outputs": [],
   "source": [
    "arccos(w.dot(cross.T)/(norm(w)*norm(cross)))*(180/pi)"
   ]
  },
  {
   "cell_type": "markdown",
   "id": "c16b3583",
   "metadata": {},
   "source": [
    "### Matrices \n",
    "\n",
    "An $n \\times m $ matrix is a rectangular table of numbers consisting of $m$ rows and $n$ columns.\n",
    "\n",
    "The norm of a matrix can be consider as a kind of vector norm by alingming the $n * m$ elements of the matrix into a single vector\n",
    "$$\n",
    "\\Vert M \\Vert_{p} = \\sqrt[p]{(\\sum_i^m \\sum_j^n |a_{ij}|^p)}\n",
    "$$\n",
    "\n",
    "where $p$ defines the norm order ($p=0, 1, 2,...$)\n",
    "\n",
    "\n",
    "**Matrix multiplication** between two matrices, $P$ and $Q$, is defined when $P$ is an $m \\times p$ matrix and $Q$ is a $p \\times n$ matrix. The result of $M=PQ$ is a matrix $M$ that is $m \\times n$. The dimension with size $p$ is called the inner matrix dimension, and the inner matrix dimensions must match (i.e., the number of columns in $P$ and the number of rows in $Q$ must be the same) for matrix multiplication. The dimensions $m$ and $n$ are called the outer matrix dimensions. Formally,  $M=PQ$ is defined as\n",
    "$$\n",
    "M_{ij} = \\sum_{k=1}^p P_{ik}Q_{kj}\n",
    "$$\n"
   ]
  },
  {
   "cell_type": "code",
   "execution_count": null,
   "id": "2dc178c1",
   "metadata": {},
   "outputs": [],
   "source": [
    "P = np.array([[1, 7], [2, 3], [5, 0]])\n",
    "Q = np.array([[2, 6, 3, 1], [1, 2, 3, 4]])\n",
    "print(P)\n",
    "print(f'The dimensions of P are: {P.shape}')\n",
    "print(Q, Q.shape)\n",
    "print(f'The dimensions of Q are: {Q.shape}')\n",
    "print(np.dot(P, Q))\n",
    "print(f'The dimensions of PxQ are: {np.dot(P, Q).shape}')"
   ]
  },
  {
   "cell_type": "code",
   "execution_count": null,
   "id": "e26f1745",
   "metadata": {},
   "outputs": [],
   "source": [
    "#what will happend here? \n",
    "np.dot(P, Q)"
   ]
  },
  {
   "cell_type": "markdown",
   "id": "5be55fca",
   "metadata": {},
   "source": [
    "The **determinant** is an important property of square matrices (same number of rows and columns). The determinant is denoted by $\\det(M)$ or $|M|$.\n",
    "\n",
    "In the case of $2 \\times 2$ matrices, the determinant is \n",
    "$$\n",
    "\\begin{split}\n",
    "|M| = \\begin{bmatrix}\n",
    "a & b \\\\\n",
    "c & d\\\\\n",
    "\\end{bmatrix} = ad - bc\\end{split}\n",
    "$$\n",
    "\n",
    "\n",
    "In the case of $3 \\times 3$ matrices, the determinant is \n",
    "$$\n",
    "\\begin{split}\n",
    "\\begin{eqnarray*}\n",
    "|M| = \\begin{bmatrix}\n",
    "a & b & c \\\\\n",
    "d & e & f \\\\\n",
    "g & h & i \\\\\n",
    "\\end{bmatrix} & = & a\\begin{bmatrix}\n",
    "\\Box &\\Box  &\\Box  \\\\\n",
    "\\Box & e & f \\\\\n",
    "\\Box & h & i \\\\\n",
    "\\end{bmatrix} - b\\begin{bmatrix}\n",
    "\\Box &\\Box  &\\Box  \\\\\n",
    "d & \\Box & f \\\\\n",
    "g & \\Box & i \\\\\n",
    "\\end{bmatrix}+c\\begin{bmatrix}\n",
    "\\Box &\\Box  &\\Box  \\\\\n",
    "d & e & \\Box \\\\\n",
    "g & h & \\Box \\\\\n",
    "\\end{bmatrix} \\\\\n",
    "&&\\\\\n",
    "& = & a\\begin{bmatrix}\n",
    "e & f \\\\\n",
    "h & i \\\\\n",
    "\\end{bmatrix} - b\\begin{bmatrix}\n",
    "d & f \\\\\n",
    "g & i \\\\\n",
    "\\end{bmatrix}+c\\begin{bmatrix}\n",
    "d & e \\\\\n",
    "g & h \\\\\n",
    "\\end{bmatrix} \\\\ \n",
    "&&\\\\\n",
    "& = & aei + bfg + cdh - ceg - bdi - afh\n",
    "\\end{eqnarray*}\\end{split}\n",
    "$$\n",
    "\n",
    "\n",
    "Computing the determinant or larger matrices is cumbersome. However, the process can be easily automated and always reduced to computing the determinant of $2 \\times 2$ matrices. Numpy includes an efficient method to compute the determinant of a matrix"
   ]
  },
  {
   "cell_type": "code",
   "execution_count": null,
   "id": "de16ee9d",
   "metadata": {},
   "outputs": [],
   "source": [
    "from numpy.linalg import det\n",
    "\n",
    "M = np.array([[0,2,1,3], \n",
    "             [3,2,8,1], \n",
    "             [1,0,0,3],\n",
    "             [0,3,2,1]])\n",
    "print(f'M: {M}')\n",
    "\n",
    "print(f'Determinant: {det(M):0.2f}') #note that the :0.2f limits the number of decimals printed!\n"
   ]
  },
  {
   "cell_type": "markdown",
   "id": "55e736cf",
   "metadata": {},
   "source": [
    "The inverse of a square matrix $M$ is a matrix of the same size, $N$, such that $M \\bullet N=I$, Where $I$ is a matrix with only ones in its diagonal (unity matrix). The inverse of a matrix $M$ is denoted as $M^{-1}$. For a $2 \\times 2$ matrix, the inverse is defined as \n",
    "\n",
    "$$\n",
    "\\begin{split}\n",
    "M^{-1} = \\begin{bmatrix}\n",
    "a & b \\\\\n",
    "c & d\\\\\n",
    "\\end{bmatrix}^{-1} = \\frac{1}{|M|}\\begin{bmatrix}\n",
    "d & -b \\\\\n",
    "-c & a\\\\\n",
    "\\end{bmatrix}\\end{split}\n",
    "$$\n",
    "\n",
    "calculating the inverse of a matrix is a complex process; however, it is an important step in many calculations and several *easier* approaches have been developed.\n",
    "\n",
    "if the determinant of a matrix is zero, then the matrix doesn't have an inverse. "
   ]
  },
  {
   "cell_type": "code",
   "execution_count": null,
   "id": "3073aade",
   "metadata": {},
   "outputs": [],
   "source": [
    "from numpy.linalg import inv\n",
    "\n",
    "M = np.array([[0,2,1,3], \n",
    "             [3,2,8,1], \n",
    "             [1,0,0,3],\n",
    "             [0,3,2,1]])\n",
    "print(f'M: {M}')\n",
    "\n",
    "print(f'Inverse: {inv(M)}') #note that the :0.2f limits the number of decimals printed!\n",
    "\n",
    "print(f'M x inv(M) = {np.dot(M,inv(M))}')\n"
   ]
  },
  {
   "cell_type": "markdown",
   "id": "784e84ca",
   "metadata": {},
   "source": [
    "A matrix that is close to being singular (i.e., the determinant is close to 0) is called **ill-conditioned**. Although ill-conditioned matrices have inverses, they are problematic numerically in the same way that dividing a number by a very, very small number is problematic. \n",
    "The **condition number** is a measure of how ill-conditioned a matrix is, and it can be computed using Numpy’s function cond from linalg. The higher the condition number, the closer the matrix is to being singular.\n",
    "\n",
    "The **rank** of an $m \\times n$ matrix $A$ is the number of linearly independent columns or rows of $A$ (that is, you cannot write a row or column as a linear combination of other rows or columns), and is denoted by **rank(A)**. It can be shown that the number of linearly independent rows is always equal to the number of linearly independent columns for any matrix. A matrix is called full rank. if **rank (A)=min(m,n)**. The matrix, $A$, is also full rank if all of its columns are linearly independent.\n"
   ]
  },
  {
   "cell_type": "code",
   "execution_count": null,
   "id": "f3658031",
   "metadata": {},
   "outputs": [],
   "source": [
    "from numpy.linalg import cond, matrix_rank\n",
    "\n",
    "A = np.array([[1,1,0],\n",
    "              [0,1,0],\n",
    "              [1,0,1]])\n",
    "\n",
    "print(f'Condition number: {cond(A)}')\n",
    "print(f'Rank: {matrix_rank(A)}')"
   ]
  },
  {
   "cell_type": "markdown",
   "id": "57c3e63a",
   "metadata": {},
   "source": [
    "if you append a new columns (or row) to a matrix, the rank will increase if the new columns add new information (that is, the new column cannot be explained by a linear combinantion of existing columns)"
   ]
  },
  {
   "cell_type": "code",
   "execution_count": null,
   "id": "f90840a0",
   "metadata": {},
   "outputs": [],
   "source": [
    "y = np.array([[1], [2], [1]])\n",
    "A_y = np.concatenate((A, y), axis = 1)\n",
    "print(f'Augmented matrix: \\n {A_y}')\n",
    "print(f'Rank of augmented matrix: {matrix_rank(A_y)} ')"
   ]
  },
  {
   "cell_type": "markdown",
   "id": "27ca00a3",
   "metadata": {},
   "source": [
    "### Linear Transformations \n",
    "\n",
    "You can transform a vector by applying linear operations to it, for examples \n",
    "\n",
    "- Sum with a scalar \n",
    "- Multiplication with a scalar\n",
    "- Sum with another vector\n",
    "- Multiplication with another vector \n",
    "- Multiplication with a matrix \n",
    "\n",
    "The last operation is one of the most important operation in linear algebra and has many applications. \n",
    "\n",
    "Example, **Vector Rotation**"
   ]
  },
  {
   "cell_type": "code",
   "execution_count": null,
   "id": "69f521a6",
   "metadata": {},
   "outputs": [],
   "source": [
    "import numpy as np\n",
    "import matplotlib.pyplot as plt\n",
    "V = np.array([[3],[1]])\n",
    "origin = np.array([[0], [0]]) # origin point\n",
    "\n",
    "plt.quiver(0,0,*V, color=['r'], scale=21)\n",
    "plt.plot([-1,1],[0,0], lw=0.5, color = 'k')\n",
    "plt.plot([0,0],[-1,1], lw=0.5, color = 'k')\n",
    "plt.show()"
   ]
  },
  {
   "cell_type": "markdown",
   "id": "475aa82e",
   "metadata": {},
   "source": [
    "To rotate a vector by an angle $\\theta$, you have to multiply it by a rotation matrix given by \n",
    "$$\n",
    "R = \\begin{bmatrix}\n",
    "\\cos(\\theta) & -\\sin(\\theta) \\\\\n",
    "\\sin(\\theta) & \\cos(\\theta)\n",
    "\\end{bmatrix}\n",
    "$$"
   ]
  },
  {
   "cell_type": "code",
   "execution_count": null,
   "id": "124890b5",
   "metadata": {},
   "outputs": [],
   "source": [
    "#Rotate the vector by 45 degress\n",
    "theta = 45 * (np.pi/180)\n",
    "Rot_Matrix = np.array([[np.cos(theta), -np.sin(theta)],[np.sin(theta), np.cos(theta)]])\n",
    "\n",
    "rot_V = Rot_Matrix @ V\n",
    "\n",
    "#(2x2) @ (2x1) -> (2x1)\n",
    "plt.quiver(0,0,*V, color=['r'], scale=21)\n",
    "plt.quiver(0,0,*rot_V, color=['tab:green'], scale=21)\n",
    "plt.plot([-1,1],[0,0], lw=0.5, color = 'k')\n",
    "plt.plot([0,0],[-1,1], lw=0.5, color = 'k')\n",
    "plt.show()"
   ]
  },
  {
   "cell_type": "markdown",
   "id": "1f10b8a1",
   "metadata": {},
   "source": [
    "## Exercise \n",
    "Try it yourself, rotate the vector\n",
    "$$\n",
    "R = \\begin{bmatrix}\n",
    "5 \\\\\n",
    "3\n",
    "\\end{bmatrix}\n",
    "$$\n",
    "\n",
    "by 50 degrees. Verify the result of the operation"
   ]
  },
  {
   "cell_type": "code",
   "execution_count": 2,
   "id": "8ced43bd",
   "metadata": {},
   "outputs": [],
   "source": [
    "#here is a support function that returns the rotation matrix given an angle\n",
    "\n",
    "import numpy as np\n",
    "\n",
    "def rot_matrix(theta):\n",
    "    \n",
    "    return np.array([[np.cos(theta), -np.sin(theta)],[np.sin(theta), np.cos(theta)]])\n"
   ]
  },
  {
   "cell_type": "markdown",
   "id": "b007cd1f",
   "metadata": {},
   "source": [
    "Linear transformation are **inversible**, you can recover the original vector by multiplying by the inverse of the rotation matrix\n"
   ]
  },
  {
   "cell_type": "code",
   "execution_count": null,
   "id": "fc221c5b",
   "metadata": {},
   "outputs": [],
   "source": [
    "V = np.array([[3],[1]])\n",
    "\n",
    "theta = 45 * (np.pi/180)\n",
    "Rot_Matrix = np.array([[np.cos(theta), -np.sin(theta)],[np.sin(theta), np.cos(theta)]])\n",
    "\n",
    "rot_V = Rot_Matrix @ V\n",
    "\n",
    "rec_V = np.linalg.inv(Rot_Matrix)@rot_V\n",
    "\n",
    "print(f'The original Vector is: \\n {V}')\n",
    "print(f'The recovered Vector is : \\n {rec_V}')"
   ]
  },
  {
   "cell_type": "markdown",
   "id": "2586d3bd",
   "metadata": {},
   "source": [
    "### System of linear equations\n",
    "\n",
    "A system of linear equations is a set of linear equations that share the same variables. Consider the following system of linear equations:\n",
    "\n",
    "$$\n",
    "\\begin{eqnarray*}\n",
    "\\begin{array}{rcrcccccrcc}\n",
    "a_{1,1} x_1 &+& a_{1,2} x_2 &+& {\\ldots}& +& a_{1,n-1} x_{n-1} &+&a_{1,n} x_n &=& y_1,\\\\\n",
    "a_{2,1} x_1 &+& a_{2,2} x_2 &+&{\\ldots}& +& a_{2,n-1} x_{n-1} &+& a_{2,n} x_n &=& y_2, \\\\\n",
    "&&&&{\\ldots} &&{\\ldots}&&&& \\\\\n",
    "a_{m-1,1}x_1 &+& a_{m-1,2}x_2&+ &{\\ldots}& +& a_{m-1,n-1} x_{n-1} &+& a_{m-1,n} x_n &=& y_{m-1},\\\\\n",
    "a_{m,1} x_1 &+& a_{m,2}x_2 &+ &{\\ldots}& +& a_{m,n-1} x_{n-1} &+& a_{m,n} x_n &=& y_{m}.\n",
    "\\end{array}\n",
    "\\end{eqnarray*}$$\n",
    "\n",
    "\n",
    "The matrix form of a system of linear equations is $\\textbf{A}x = y$ where $\\textbf{A}$ is a m×n matrix, $y$ is a vector, and $x$ is an unknown vector:\n",
    "$$\n",
    "\\begin{split}\\begin{bmatrix}\n",
    "a_{1,1} & a_{1,2} & ... & a_{1,n}\\\\\n",
    "a_{2,1} & a_{2,2} & ... & a_{2,n}\\\\\n",
    "... & ... & ... & ... \\\\\n",
    "a_{m,1} & a_{m,2} & ... & a_{m,n}\n",
    "\\end{bmatrix}\\left[\\begin{array}{c} x_1 \\\\x_2 \\\\ ... \\\\x_n \\end{array}\\right] =\n",
    "\\left[\\begin{array}{c} y_1 \\\\y_2 \\\\ ... \\\\y_m \\end{array}\\right]\\end{split}\n",
    "$$\n"
   ]
  },
  {
   "cell_type": "markdown",
   "id": "31fb68f8",
   "metadata": {},
   "source": [
    "For example, the system of linear equations \n",
    "\n",
    "$$\n",
    "\\begin{eqnarray*}\n",
    "4x + 3y - 5z &=& 2 \\\\\n",
    "-2x - 4y + 5z &=& 5 \\\\\n",
    "7x + 8y   &=& -3 \\\\\n",
    "x   + 2z &=& 1  \\\\\n",
    "9 + y - 6z &=& 6 \\\\\n",
    "\\end{eqnarray*}\n",
    "$$\n",
    "\n",
    "can be written as \n",
    "$$\n",
    "\\begin{split}\\begin{bmatrix}\n",
    "4 & 3 & -5\\\\\n",
    "-2 & -4 & 5\\\\\n",
    "7 & 8 & 0\\\\\n",
    "1 & 0 & 2\\\\\n",
    "9 & 1 & -6\n",
    "\\end{bmatrix}\\left[\\begin{array}{c} x \\\\y \\\\z \\end{array}\\right] =\n",
    "\\left[\\begin{array}{c} 2 \\\\5 \\\\-3 \\\\1 \\\\6 \\end{array}\\right]\\end{split}\n",
    "$$"
   ]
  },
  {
   "cell_type": "markdown",
   "id": "8a503c9c",
   "metadata": {},
   "source": [
    "#### Solutions to Systems of Linear Equations\n",
    "\n",
    "The objective is to find a set of scalars ($x$, $y$, and $z$) that allow us to write the vector $y$ as a linear combination of the columns of $\\textbf{A}$. \n",
    "\n",
    "If the rank of the augmented matriz $[\\textbf{A},y]$ is equal to the rank of $[\\textbf{A}]$, this solution exist. Otherwise, the solution doesn't exists.\n",
    "\n",
    "Moreover, if $\\textbf{A}$ is not full rank (i.e, the $rank(\\textbf{A})$ is smaller than the number of columns), then not all the columns of $\\textbf{A}$ are independent and the system will have infinite number of solutions. \n",
    "\n",
    "There are many methods that can be used to solve a system of linear equations. Most methods were designed to simplify manual calculations, however, we are mostly interested in computer based methods\n",
    "1) Direct matrix inversion \n",
    "In this method, we multiply by the inverse of the matrix $\\textbf{A}$ in both sides of the equation \n",
    "$$\n",
    "\\begin{align}\n",
    "\\textbf{A} x &= y \\\\\n",
    "\\textbf{A}^{-1}\\textbf{A}x &= \\textbf{A}^{-1} y \\\\\n",
    "x &= \\textbf{A}^{-1}y\n",
    "\\end{align}\n",
    "$$"
   ]
  },
  {
   "cell_type": "code",
   "execution_count": null,
   "id": "cec2e172",
   "metadata": {},
   "outputs": [],
   "source": [
    "A = np.array([[8, 8, 0], \n",
    "              [-2, -4, 5], \n",
    "             [4, 3, -5] ])\n",
    "y = np.array([2, 5, -3])\n",
    "\n",
    "x = np.linalg.inv(A)@y\n",
    "print(x)"
   ]
  },
  {
   "cell_type": "code",
   "execution_count": null,
   "id": "17c1684a",
   "metadata": {},
   "outputs": [],
   "source": [
    "#Verify the results\n",
    "print(f'Ax = {A@x}')"
   ]
  },
  {
   "cell_type": "markdown",
   "id": "97905825",
   "metadata": {},
   "source": [
    "That methods works fine unless the matrix $\\textbf{A}$ is close to be singular. In that case, we can use other methods that avoid finding the inverse of the matrix. The most common method is called $LU$ decomposition, , where a matrix $\\textbf{A}$ is expressed as \n",
    "$$\n",
    "\\textbf{A} = \\textbf{L}\\textbf{U}\n",
    "$$\n",
    "\n",
    "with $\\textbf{L}$ a lower diagonal matrix and $\\textbf{U}$ a upper diagonal matrix\n",
    "\n",
    "$$\n",
    "\\begin{split}Ax = y \\rightarrow LUx=y\\rightarrow\n",
    "\\begin{bmatrix}\n",
    "l_{1,1} & 0 & 0 & 0\\\\\n",
    "l_{2,1} & l_{2,2} & 0 & 0\\\\\n",
    "l_{3,1} & l_{3,2} & l_{3,3} & 0 \\\\\n",
    "l_{4,1} & l_{4,2} & l_{4,3} & l_{4,4}\n",
    "\\end{bmatrix}\n",
    "\\begin{bmatrix}\n",
    "u_{1,1} & u_{1,2} & u_{1,3} & u_{1,4}\\\\\n",
    "0 & u_{2,2} & u_{2,3} & u_{2,4}\\\\\n",
    "0 & 0 & u_{3,3} & u_{3,4} \\\\\n",
    "0 & 0 & 0 & u_{4,4}\n",
    "\\end{bmatrix}\\left[\\begin{array}{c} x_1 \\\\x_2 \\\\ x_3 \\\\x_4 \\end{array}\\right] =\n",
    "\\left[\\begin{array}{c} y_1 \\\\y_2 \\\\ y_3 \\\\y_4 \\end{array}\\right]\\end{split}\n",
    "$$\n",
    "\n",
    "we can now split this problem into two simpler problems\n",
    "$$\n",
    "\\begin{split}\n",
    "\\begin{bmatrix}\n",
    "u_{1,1} & u_{1,2} & u_{1,3} & u_{1,4}\\\\\n",
    "0 & u_{2,2} & u_{2,3} & u_{2,4}\\\\\n",
    "0 & 0 & u_{3,3} & u_{3,4} \\\\\n",
    "0 & 0 & 0 & u_{4,4}\n",
    "\\end{bmatrix}\\left[\\begin{array}{c} x_1 \\\\x_2 \\\\ x_3 \\\\x_4 \\end{array}\\right] =\n",
    "\\left[\\begin{array}{c} m_1 \\\\m_2 \\\\ m_3 \\\\m_4 \\end{array}\\right]\\end{split}\n",
    "$$\n",
    "\n",
    "and\n",
    "\n",
    "$$\n",
    "\\begin{split}\n",
    "\\begin{bmatrix}\n",
    "l_{1,1} & 0 & 0 & 0\\\\\n",
    "l_{2,1} & l_{2,2} & 0 & 0\\\\\n",
    "l_{3,1} & l_{3,2} & l_{3,3} & 0 \\\\\n",
    "l_{4,1} & l_{4,2} & l_{4,3} & l_{4,4}\n",
    "\\end{bmatrix}\n",
    "\\left[\\begin{array}{c} m_1 \\\\m_2 \\\\ m_3 \\\\m_4 \\end{array}\\right] =\n",
    "\\left[\\begin{array}{c} y_1 \\\\y_2 \\\\ y_3 \\\\y_4 \\end{array}\\right]\\end{split}\n",
    "$$\n",
    "\n",
    "Note that if $\\textbf{A}$ is full rank, then the matrices $\\textbf{L}$ and $\\textbf{U}$ exist, and its inverse is easy to find and the determinant is equal to the mutiplication of the elements in the diagonal "
   ]
  },
  {
   "cell_type": "code",
   "execution_count": null,
   "id": "57b5cbff",
   "metadata": {},
   "outputs": [],
   "source": [
    "from scipy.linalg import lu #note that we are not using numpy\n",
    "A = np.array([[8, 8, 0], \n",
    "              [-2, -4, 5], \n",
    "             [4, 3, -5] ])\n",
    "y = np.array([2, 5, -3])\n",
    "\n",
    "P,L,U = lu(A)\n",
    "print(L)\n",
    "print(U)"
   ]
  },
  {
   "cell_type": "code",
   "execution_count": null,
   "id": "ae9f58dc",
   "metadata": {},
   "outputs": [],
   "source": [
    "#compute m using L and y \n",
    "m = np.linalg.inv(L)@y"
   ]
  },
  {
   "cell_type": "code",
   "execution_count": null,
   "id": "7d372b9e",
   "metadata": {},
   "outputs": [],
   "source": [
    "#compute x using U and m\n",
    "x = np.linalg.inv(U)@m\n",
    "print(x)"
   ]
  },
  {
   "cell_type": "code",
   "execution_count": null,
   "id": "35aee634",
   "metadata": {},
   "outputs": [],
   "source": [
    "#Verify the results\n",
    "print(f'Ax = {A@x}')"
   ]
  },
  {
   "cell_type": "code",
   "execution_count": null,
   "id": "9baf39e1",
   "metadata": {},
   "outputs": [],
   "source": [
    "#numpy does the same in its own function to solve linear system \n",
    "from numpy.linalg import solve\n",
    "\n",
    "x = solve(A,y)\n",
    "print(x)"
   ]
  }
 ],
 "metadata": {
  "kernelspec": {
   "display_name": "Python 3",
   "language": "python",
   "name": "python3"
  },
  "language_info": {
   "codemirror_mode": {
    "name": "ipython",
    "version": 3
   },
   "file_extension": ".py",
   "mimetype": "text/x-python",
   "name": "python",
   "nbconvert_exporter": "python",
   "pygments_lexer": "ipython3",
   "version": "3.8.3"
  }
 },
 "nbformat": 4,
 "nbformat_minor": 5
}
