{
 "cells": [
  {
   "cell_type": "code",
   "execution_count": null,
   "id": "89e4aa4b",
   "metadata": {},
   "outputs": [],
   "source": [
    "import pandas as pd"
   ]
  },
  {
   "cell_type": "code",
   "execution_count": null,
   "id": "8e5e48de",
   "metadata": {},
   "outputs": [],
   "source": [
    "# creating a simple DataFrame using \"dict\"\n",
    "# each (key,value) will create a new column\n",
    "# the values will be your rows and the keys will be your column names\n",
    "data = {\n",
    "    'apples':[3,5,4,1],\n",
    "    'oranges':[2,0,1,5],\n",
    "    'bananas':[10,12,0,14]\n",
    "}\n",
    "\n",
    "# once you have your dict, you can pass it to the DataFrame builder\n",
    "purchases = pd.DataFrame(data)\n",
    "purchases"
   ]
  },
  {
   "cell_type": "code",
   "execution_count": null,
   "id": "82eea2f4",
   "metadata": {},
   "outputs": [],
   "source": [
    "# indexes by default are numbers \n",
    "# you can change the indexes by using the index argument and inputting a list \n",
    "# same size as the number of rows, in this case 4\n",
    "\n",
    "indexes = ['Mary', 'Juan', 'Kyle', 'Gaby']\n",
    "\n",
    "purchases = pd.DataFrame(data, index=indexes)\n",
    "purchases"
   ]
  },
  {
   "cell_type": "markdown",
   "id": "db4e7fac",
   "metadata": {},
   "source": [
    "### Slicing, selecting, extracting\n",
    "1. By column: \n",
    "- df['column name']\n",
    "- df[[list of column names]]\n",
    "2. By rows:\n",
    "- df.loc['by name']\n",
    "- df.iloc[numerical index]"
   ]
  },
  {
   "cell_type": "code",
   "execution_count": null,
   "id": "bf531c98",
   "metadata": {},
   "outputs": [],
   "source": [
    "# by column use brackets\n",
    "# inputting just one string will output a single series\n",
    "\n",
    "apple_series = purchases['apples']\n",
    "apple_series\n",
    "# type(apple_series)"
   ]
  },
  {
   "cell_type": "code",
   "execution_count": null,
   "id": "477b4873",
   "metadata": {},
   "outputs": [],
   "source": [
    "# to create a new DataFrame you need to input a list of strings\n",
    "\n",
    "apple_df = purchases[['apples']]\n",
    "apple_df\n",
    "# type(apple_df)"
   ]
  },
  {
   "cell_type": "code",
   "execution_count": null,
   "id": "df3ad2cf",
   "metadata": {},
   "outputs": [],
   "source": [
    "# you can have a list of multiple column names \n",
    "apple_bananas = purchases[['apples','bananas']]\n",
    "apple_bananas"
   ]
  },
  {
   "cell_type": "code",
   "execution_count": null,
   "id": "2a1bf818",
   "metadata": {},
   "outputs": [],
   "source": [
    "# locate rows using index names\n",
    "purchases.loc['Gaby']"
   ]
  },
  {
   "cell_type": "code",
   "execution_count": null,
   "id": "87e1a138",
   "metadata": {},
   "outputs": [],
   "source": [
    "# locate rows using index number\n",
    "purchases.iloc[3]"
   ]
  },
  {
   "cell_type": "code",
   "execution_count": null,
   "id": "5bf719db",
   "metadata": {},
   "outputs": [],
   "source": [
    "# you can use the : to get more rows \n",
    "purchases.loc['Juan':'Gaby']"
   ]
  },
  {
   "cell_type": "code",
   "execution_count": null,
   "id": "36ede382",
   "metadata": {},
   "outputs": [],
   "source": [
    "purchases.iloc[1:]"
   ]
  },
  {
   "cell_type": "markdown",
   "id": "c8427730",
   "metadata": {},
   "source": [
    "## LOADING A CSV FILE "
   ]
  },
  {
   "cell_type": "code",
   "execution_count": null,
   "id": "f5ce867b",
   "metadata": {},
   "outputs": [],
   "source": [
    "# loading a csv file into a DataFrame\n",
    "# you can input the column name that corresponds to the indexes \n",
    "# the easiest way to make sure is to copy the path of your file \n",
    "\n",
    "path = r\"C:\\Users\\Gabriela Acevedo\\Desktop\\IMDB-Movie-Data.csv\"\n",
    "movies_df = pd.read_csv(path,index_col='Title')\n",
    "movies_df"
   ]
  },
  {
   "cell_type": "code",
   "execution_count": null,
   "id": "750ea066",
   "metadata": {},
   "outputs": [],
   "source": [
    "# or you can set it later using the command set_index()\n",
    "movies_df = pd.read_csv(\"IMDB-Movie-Data.csv\")\n",
    "movies_df"
   ]
  },
  {
   "cell_type": "code",
   "execution_count": null,
   "id": "6f0eebcb",
   "metadata": {},
   "outputs": [],
   "source": [
    "movies_df = movies_df.set_index('Title')\n",
    "movies_df"
   ]
  },
  {
   "cell_type": "markdown",
   "id": "63ab5449",
   "metadata": {},
   "source": [
    "## IMPORTANT DATAFRAME OPERATIONS"
   ]
  },
  {
   "cell_type": "markdown",
   "id": "917bf5e0",
   "metadata": {},
   "source": [
    "### Viewing your data and getting information about it \n",
    "- df.head(): print out the first few rows\n",
    "- df.tail(): print out the last few rows \n",
    "- df.info(): provides the essential details about your dataset\n",
    "- df.shape: outputs just a tuple of (#rows, #columns)"
   ]
  },
  {
   "cell_type": "code",
   "execution_count": null,
   "id": "92f41280",
   "metadata": {},
   "outputs": [],
   "source": [
    "# print the first 5 rows of your data\n",
    "movies_df.head(5)"
   ]
  },
  {
   "cell_type": "code",
   "execution_count": null,
   "id": "5ca045dd",
   "metadata": {},
   "outputs": [],
   "source": [
    "# print the last 5 rows of your data\n",
    "movies_df.tail(5)"
   ]
  },
  {
   "cell_type": "code",
   "execution_count": null,
   "id": "b420314a",
   "metadata": {},
   "outputs": [],
   "source": [
    "movies_df.info()"
   ]
  },
  {
   "cell_type": "code",
   "execution_count": null,
   "id": "b8fe4a26",
   "metadata": {},
   "outputs": [],
   "source": [
    "# remember that the number of columns do not include the column with the indexes\n",
    "movies_df.shape"
   ]
  },
  {
   "cell_type": "markdown",
   "id": "2403330d",
   "metadata": {},
   "source": [
    "### Handling duplicates \n",
    "- df.append(df2): return a copy with the second dataframe appended without affecting the original DataFrame \n",
    "- df.drop_duplicate(): returns a copy of the dataframe with the duplicated rows removed without affecting the original"
   ]
  },
  {
   "cell_type": "code",
   "execution_count": null,
   "id": "51bac16d",
   "metadata": {},
   "outputs": [],
   "source": [
    "# append a exact copy to the end of our original dataframe\n",
    "dup_df = movies_df.append(movies_df)\n",
    "dup_df.shape # you can see the number of rows multiplied "
   ]
  },
  {
   "cell_type": "code",
   "execution_count": null,
   "id": "ff699029",
   "metadata": {},
   "outputs": [],
   "source": [
    "# keep argument: which duplicate to keep \n",
    "## - First (default): keeps the first occurence \n",
    "## - Last: keeps the las occurence \n",
    "## - False: drops all the duplicates \n",
    "\n",
    "dup_df = dup_df.drop_duplicates()\n",
    "dup_df.shape"
   ]
  },
  {
   "cell_type": "code",
   "execution_count": null,
   "id": "d41047fd",
   "metadata": {},
   "outputs": [],
   "source": [
    "dup_df = movies_df.append(movies_df)\n",
    "dup_df = dup_df.drop_duplicates(keep=False)\n",
    "dup_df.shape"
   ]
  },
  {
   "cell_type": "markdown",
   "id": "e33ba9c0",
   "metadata": {},
   "source": [
    "### Column Cleanups \n",
    "- df.columns: prints out the column names of the DataFrame \n",
    "- df.rename(): rename some or all columns via a dict"
   ]
  },
  {
   "cell_type": "code",
   "execution_count": null,
   "id": "b5ec79d9",
   "metadata": {},
   "outputs": [],
   "source": [
    "movies_df.columns"
   ]
  },
  {
   "cell_type": "code",
   "execution_count": null,
   "id": "d5bdbd93",
   "metadata": {},
   "outputs": [],
   "source": [
    "# lets say we don't want parenthesis \n",
    "\n",
    "movies_df.rename(columns={\n",
    "        'Runtime (Minutes)': 'Runtime', \n",
    "        'Revenue (Millions)': 'Revenue_millions'\n",
    "    }, inplace=True)\n",
    "\n",
    "\n",
    "movies_df.columns"
   ]
  },
  {
   "cell_type": "code",
   "execution_count": null,
   "id": "099afb27",
   "metadata": {},
   "outputs": [],
   "source": [
    "# you can also set a list to the column names \n",
    "# lets make a new list with the columns in lower case \n",
    "\n",
    "columns_df = movies_df.columns\n",
    "\n",
    "lower_case_columns = [i.lower() for i in columns_df]\n",
    "lower_case_columns"
   ]
  },
  {
   "cell_type": "code",
   "execution_count": null,
   "id": "518e8368",
   "metadata": {},
   "outputs": [],
   "source": [
    "movies_df.columns = lower_case_columns\n",
    "movies_df.columns"
   ]
  },
  {
   "cell_type": "markdown",
   "id": "ded5e74d",
   "metadata": {},
   "source": [
    "### Missing Values (nulls)\n",
    "Elements in the table that are (commonly) np.nan or None. You can do two things\n",
    "1. Get rid of rows or columns with nulls\n",
    "2. Replace nulls with non-null values, a technique known as imputation\n",
    "\n",
    "- df.isnull(): check which cells in our DataFrame are null\n",
    "- df.dropna(): will delete any row with at least a single null value, but it will return a new DataFrame without altering the original one\n",
    "- df.dropna(axis=1): to drop the columns with at least one null value\n",
    "- fillna(): fills the null values with a set value "
   ]
  },
  {
   "cell_type": "code",
   "execution_count": null,
   "id": "7b6f58e9",
   "metadata": {},
   "outputs": [],
   "source": [
    "# lets check what elements are null\n",
    "# this is not very usefull because it will show True for each element that is null\n",
    "movies_df.isnull()"
   ]
  },
  {
   "cell_type": "code",
   "execution_count": null,
   "id": "c5c35e1d",
   "metadata": {},
   "outputs": [],
   "source": [
    "# we can use the method sum() to check how many null values each columns has \n",
    "# this will sum each element that is True (null value)\n",
    "movies_df.isnull().sum()"
   ]
  },
  {
   "cell_type": "code",
   "execution_count": null,
   "id": "62d31642",
   "metadata": {},
   "outputs": [],
   "source": [
    "dropped_na_rows = movies_df.dropna()\n",
    "dropped_na.info()"
   ]
  },
  {
   "cell_type": "code",
   "execution_count": null,
   "id": "5ee6fb43",
   "metadata": {},
   "outputs": [],
   "source": [
    "dropped_na_col = movies_df.dropna(axis=1)\n",
    "dropped_na_col.columns"
   ]
  },
  {
   "cell_type": "markdown",
   "id": "27a2a5ba",
   "metadata": {},
   "source": [
    "#### Imputation"
   ]
  },
  {
   "cell_type": "code",
   "execution_count": null,
   "id": "d2afba94",
   "metadata": {},
   "outputs": [],
   "source": [
    "# first lets extract the column we want to imputate and create a new variable\n",
    "# brackets in a DataFrame are used to specify a column (.loc['index'] to specify a row)\n",
    "revenue = movies_df['revenue_millions']\n",
    "revenue.head()"
   ]
  },
  {
   "cell_type": "code",
   "execution_count": null,
   "id": "446c3013",
   "metadata": {},
   "outputs": [],
   "source": [
    "# lets replace all the null values with the mean of the revenues that do have a value \n",
    "\n",
    "revenue_mean = revenue.mean()\n",
    "revenue_mean"
   ]
  },
  {
   "cell_type": "code",
   "execution_count": null,
   "id": "46e39f02",
   "metadata": {},
   "outputs": [],
   "source": [
    "# having the inplace=True will affect the original movies_df DataFrame instead of creating a new copy \n",
    "revenue.fillna(revenue_mean, inplace=True)"
   ]
  },
  {
   "cell_type": "code",
   "execution_count": null,
   "id": "e4dc5de9",
   "metadata": {},
   "outputs": [],
   "source": [
    "# check to see the total of null values from each column\n",
    "movies_df.isnull().sum()"
   ]
  },
  {
   "cell_type": "markdown",
   "id": "78236448",
   "metadata": {},
   "source": [
    "### Understanding your variables\n",
    "- df.describe(): get a summary of the distribution of continuous variables\n",
    "- col.value_counts(): tell us the frequency of all values in a column\n",
    "- df.corr(): generates a table with the correlations between continuous variables "
   ]
  },
  {
   "cell_type": "code",
   "execution_count": null,
   "id": "4d541b85",
   "metadata": {},
   "outputs": [],
   "source": [
    "# will show the statistics for continuous variables\n",
    "movies_df.describe()"
   ]
  },
  {
   "cell_type": "code",
   "execution_count": null,
   "id": "a41a2f3d",
   "metadata": {},
   "outputs": [],
   "source": [
    "# you can use the describe method on a single column with categorical values\n",
    "movies_df['genre'].describe()"
   ]
  },
  {
   "cell_type": "code",
   "execution_count": null,
   "id": "3973c47f",
   "metadata": {},
   "outputs": [],
   "source": [
    "movies_df['genre'].value_counts().head(10)"
   ]
  },
  {
   "cell_type": "code",
   "execution_count": null,
   "id": "a09a36c9",
   "metadata": {},
   "outputs": [],
   "source": [
    "movies_df.corr()"
   ]
  },
  {
   "cell_type": "markdown",
   "id": "3870927f",
   "metadata": {},
   "source": [
    "### Conditional Selections"
   ]
  },
  {
   "cell_type": "code",
   "execution_count": null,
   "id": "72c876fa",
   "metadata": {},
   "outputs": [],
   "source": [
    "# you can create a condition that will output a series with True or False for each row\n",
    "# here we want to see which movies are directed by Ridle Scott \n",
    "\n",
    "condition = (movies_df['director'] == \"Ridley Scott\")\n",
    "\n",
    "condition.head()"
   ]
  },
  {
   "cell_type": "code",
   "execution_count": null,
   "id": "8e9cc2e9",
   "metadata": {},
   "outputs": [],
   "source": [
    "# If we want to filter out the movies that are not directed by Ridley Scott (create a DataFrame with only the movies by him)\n",
    "# we need to pass the condition to the DataFrame \n",
    "\n",
    "movies_df[movies_df['director'] == 'Ridley Scott']\n",
    "# this translates to: select movies_df where movies_df director is equal to Ridley Scott"
   ]
  },
  {
   "cell_type": "code",
   "execution_count": null,
   "id": "f84a7706",
   "metadata": {},
   "outputs": [],
   "source": [
    "# we can add  different conditions by using | for \"or\" and & for \"and\"\n",
    "movies_df[(movies_df['director'] == 'Christopher Nolan') | (movies_df['director'] == 'Ridley Scott')].head()"
   ]
  },
  {
   "cell_type": "code",
   "execution_count": null,
   "id": "443221e2",
   "metadata": {},
   "outputs": [],
   "source": [
    "# you can also use the method .isin() to make it more concise \n",
    "movies_df[movies_df['director'].isin(['Christopher Nolan', 'Ridley Scott', 'James Gunn'])].head()"
   ]
  },
  {
   "cell_type": "code",
   "execution_count": null,
   "id": "a71eb654",
   "metadata": {},
   "outputs": [],
   "source": [
    "# you can filter using most of the conditions you can think of \n",
    "# lets say we want all movies that were released between 2005 and 2010, \n",
    "# have a rating above 8.0\n",
    "# but made below the 25th percentile in revenue\n",
    "\n",
    "# we need to add each condition inside a parenthesis \n",
    "# we need to use & to add all the conditions together \n",
    "\n",
    "movies_df[\n",
    "    ((movies_df['year'] >= 2005) & (movies_df['year'] <= 2010))\n",
    "    & (movies_df['rating'] > 8.0)\n",
    "    & (movies_df['revenue_millions'] < movies_df['revenue_millions'].quantile(0.25))\n",
    "]"
   ]
  },
  {
   "cell_type": "markdown",
   "id": "5c9f9058",
   "metadata": {},
   "source": [
    "## BRIEF PLOTTING"
   ]
  },
  {
   "cell_type": "code",
   "execution_count": null,
   "id": "90e07950",
   "metadata": {},
   "outputs": [],
   "source": [
    "movies_df.plot(kind='scatter', x='rating', y='revenue_millions', title='Revenue (millions) vs Rating')"
   ]
  },
  {
   "cell_type": "code",
   "execution_count": null,
   "id": "403a4f12",
   "metadata": {},
   "outputs": [],
   "source": [
    "movies_df['rating'].plot(kind='hist', title='Rating')"
   ]
  },
  {
   "cell_type": "code",
   "execution_count": null,
   "id": "33c10672",
   "metadata": {},
   "outputs": [],
   "source": [
    "movies_df['rating'].plot(kind=\"box\")"
   ]
  }
 ],
 "metadata": {
  "kernelspec": {
   "display_name": "Python 3",
   "language": "python",
   "name": "python3"
  },
  "language_info": {
   "codemirror_mode": {
    "name": "ipython",
    "version": 3
   },
   "file_extension": ".py",
   "mimetype": "text/x-python",
   "name": "python",
   "nbconvert_exporter": "python",
   "pygments_lexer": "ipython3",
   "version": "3.8.8"
  }
 },
 "nbformat": 4,
 "nbformat_minor": 5
}
